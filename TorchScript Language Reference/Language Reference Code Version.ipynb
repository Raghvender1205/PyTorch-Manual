{
 "cells": [
  {
   "cell_type": "markdown",
   "metadata": {},
   "source": [
    "# Types\n",
    "\n",
    "The largest difference in PyTorch and Python is that PyTorch only supports a small subset of types that are needed to express neural net models                                                                                                                           \n",
    "1. ```Tensor``` :=  A PyTorch tensor of any dtype, dimension, or backend\n",
    "\n",
    "2. ```Tuple[T0, T1, ..., TN]``` := A tuple containing subtypes T0, T1, etc. (e.g. Tuple[Tensor, Tensor])\n",
    "\n",
    "3. ```bool``` := A boolean value\n",
    "\n",
    "4. ```int``` :=  A scalar integer\n",
    "\n",
    "5. ```float``` := A scalar floating point number\n",
    "\n",
    "6. ```str``` := A string\n",
    "\n",
    "7. ```List[T]```  := A list of which all members are type T\n",
    "\n",
    "8. ```Optional[T]```  := A value which is either None or type T\n",
    "\n",
    "9. ```Dict[K, V]``` := A dict with key type K and value type V. Only str, int, and float are allowed as key types.\n",
    "\n",
    "10. ```T```  := A TorchScript Class\n",
    "\n",
    "11. ```E```   :=  A TorchScript Enum\n",
    "\n",
    "12. ```NamedTuple[T0, T1, ...]```  :=  A ```collections.namedtuple``` tuple type\n",
    "\n",
    "Unlike Python, each variable in TorchScript function have a single static type. This makes it easier to optimize TorchScript functions\n",
    "\n",
    "### Example (A Type Mismatch Error)"
   ]
  },
  {
   "cell_type": "code",
   "execution_count": 1,
   "metadata": {},
   "outputs": [
    {
     "ename": "RuntimeError",
     "evalue": "\n\nType mismatch: r is set to type Tensor in the true branch and type int in the false branch:\n  File \"<ipython-input-1-ec0db09b08ea>\", line 5\n@torch.jit.script\ndef error(x):\n    if x:\n    ~~~~~\n        r = torch.rand(1)\n        ~~~~~~~~~~~~~~~~~\n    else:\n    ~~~~~\n        r = 4\n        ~~~~~ <--- HERE\n    return r\nand was used here:\n  File \"<ipython-input-1-ec0db09b08ea>\", line 9\n    else:\n        r = 4\n    return r\n           ~ <--- HERE\n",
     "output_type": "error",
     "traceback": [
      "\u001b[1;31m---------------------------------------------------------------------------\u001b[0m",
      "\u001b[1;31mRuntimeError\u001b[0m                              Traceback (most recent call last)",
      "\u001b[1;32m<ipython-input-1-ec0db09b08ea>\u001b[0m in \u001b[0;36m<module>\u001b[1;34m\u001b[0m\n\u001b[0;32m      2\u001b[0m \u001b[1;33m\u001b[0m\u001b[0m\n\u001b[0;32m      3\u001b[0m \u001b[1;33m@\u001b[0m\u001b[0mtorch\u001b[0m\u001b[1;33m.\u001b[0m\u001b[0mjit\u001b[0m\u001b[1;33m.\u001b[0m\u001b[0mscript\u001b[0m\u001b[1;33m\u001b[0m\u001b[1;33m\u001b[0m\u001b[0m\n\u001b[1;32m----> 4\u001b[1;33m \u001b[1;32mdef\u001b[0m \u001b[0merror\u001b[0m\u001b[1;33m(\u001b[0m\u001b[0mx\u001b[0m\u001b[1;33m)\u001b[0m\u001b[1;33m:\u001b[0m\u001b[1;33m\u001b[0m\u001b[1;33m\u001b[0m\u001b[0m\n\u001b[0m\u001b[0;32m      5\u001b[0m     \u001b[1;32mif\u001b[0m \u001b[0mx\u001b[0m\u001b[1;33m:\u001b[0m\u001b[1;33m\u001b[0m\u001b[1;33m\u001b[0m\u001b[0m\n\u001b[0;32m      6\u001b[0m         \u001b[0mr\u001b[0m \u001b[1;33m=\u001b[0m \u001b[0mtorch\u001b[0m\u001b[1;33m.\u001b[0m\u001b[0mrand\u001b[0m\u001b[1;33m(\u001b[0m\u001b[1;36m1\u001b[0m\u001b[1;33m)\u001b[0m\u001b[1;33m\u001b[0m\u001b[1;33m\u001b[0m\u001b[0m\n",
      "\u001b[1;32mC:\\ProgramData\\Anaconda3\\envs\\ML\\lib\\site-packages\\torch\\jit\\_script.py\u001b[0m in \u001b[0;36mscript\u001b[1;34m(obj, optimize, _frames_up, _rcb)\u001b[0m\n\u001b[0;32m   1141\u001b[0m         \u001b[1;32mif\u001b[0m \u001b[0m_rcb\u001b[0m \u001b[1;32mis\u001b[0m \u001b[1;32mNone\u001b[0m\u001b[1;33m:\u001b[0m\u001b[1;33m\u001b[0m\u001b[1;33m\u001b[0m\u001b[0m\n\u001b[0;32m   1142\u001b[0m             \u001b[0m_rcb\u001b[0m \u001b[1;33m=\u001b[0m \u001b[0m_jit_internal\u001b[0m\u001b[1;33m.\u001b[0m\u001b[0mcreateResolutionCallbackFromClosure\u001b[0m\u001b[1;33m(\u001b[0m\u001b[0mobj\u001b[0m\u001b[1;33m)\u001b[0m\u001b[1;33m\u001b[0m\u001b[1;33m\u001b[0m\u001b[0m\n\u001b[1;32m-> 1143\u001b[1;33m         fn = torch._C._jit_script_compile(\n\u001b[0m\u001b[0;32m   1144\u001b[0m             \u001b[0mqualified_name\u001b[0m\u001b[1;33m,\u001b[0m \u001b[0mast\u001b[0m\u001b[1;33m,\u001b[0m \u001b[0m_rcb\u001b[0m\u001b[1;33m,\u001b[0m \u001b[0mget_default_args\u001b[0m\u001b[1;33m(\u001b[0m\u001b[0mobj\u001b[0m\u001b[1;33m)\u001b[0m\u001b[1;33m\u001b[0m\u001b[1;33m\u001b[0m\u001b[0m\n\u001b[0;32m   1145\u001b[0m         )\n",
      "\u001b[1;31mRuntimeError\u001b[0m: \n\nType mismatch: r is set to type Tensor in the true branch and type int in the false branch:\n  File \"<ipython-input-1-ec0db09b08ea>\", line 5\n@torch.jit.script\ndef error(x):\n    if x:\n    ~~~~~\n        r = torch.rand(1)\n        ~~~~~~~~~~~~~~~~~\n    else:\n    ~~~~~\n        r = 4\n        ~~~~~ <--- HERE\n    return r\nand was used here:\n  File \"<ipython-input-1-ec0db09b08ea>\", line 9\n    else:\n        r = 4\n    return r\n           ~ <--- HERE\n"
     ]
    }
   ],
   "source": [
    "import torch\n",
    "\n",
    "@torch.jit.script\n",
    "def error(x):\n",
    "    if x:\n",
    "        r = torch.rand(1)\n",
    "    else:\n",
    "        r = 4\n",
    "    return r"
   ]
  },
  {
   "cell_type": "markdown",
   "metadata": {},
   "source": [
    "## Unsupported Typing Constructs\n",
    "\n",
    "TorchScript does not support all features and types of the ```typing``` module. Some of these are more fundamental things that are unlikely to be added in the future while others may be added if there is enough user demand to make it a priority.\n",
    "\n",
    "The types which are unsupported are: \n",
    "- ```typing.Any```\n",
    "- ```typing.NoReturn```\n",
    "- ```typing.Union```\n",
    "- ```typing.Sequence```\n",
    "- ```typing.Callable```\n",
    "- ```typing.Literal```\n",
    "- ```typing.ClassVar```\n",
    "- ```typing.Final```\n",
    "- ```typing.AnyStr```\n",
    "- ```typing.overload```\n",
    "\n",
    "## Default Types\n",
    "\n",
    "By default, all parameters to a TorchScript Function are assumed to be Tensor. To specify that an argument to a TorchScript function is of another type, ```MyPy-style``` type annotations using types:"
   ]
  },
  {
   "cell_type": "code",
   "execution_count": 2,
   "metadata": {},
   "outputs": [
    {
     "name": "stdout",
     "output_type": "stream",
     "text": [
      "tensor([4.2062, 4.3113, 4.0215])\n"
     ]
    }
   ],
   "source": [
    "import torch\n",
    "\n",
    "@torch.jit.script\n",
    "def foo(x, tup):\n",
    "    # type: (int, Tuple[Tensor, Tensor]) -> Tensor\n",
    "    t0, t1 = tup\n",
    "    return t0 + t1 + x\n",
    "\n",
    "print(foo(3, (torch.rand(3), torch.rand(3))))"
   ]
  },
  {
   "cell_type": "markdown",
   "metadata": {},
   "source": [
    "An empty list is assumed to be ```List[Tensor]``` and empty dicts ```Dict[str, Tensor]```. To instantiate an empty list or dict of other types, use <i>Python 3 hints</i>\n",
    "\n",
    "### Example (Type Annotation for Python 3)"
   ]
  },
  {
   "cell_type": "code",
   "execution_count": 7,
   "metadata": {},
   "outputs": [
    {
     "data": {
      "text/plain": [
       "RecursiveScriptModule(original_name=EmptyDataStructures)"
      ]
     },
     "execution_count": 7,
     "metadata": {},
     "output_type": "execute_result"
    }
   ],
   "source": [
    "# type annotations for Python 3\n",
    "import torch\n",
    "import torch.nn as nn\n",
    "from typing import Dict, List, Tuple\n",
    "\n",
    "class EmptyDataStructures(nn.Module):\n",
    "    def __init__(self):\n",
    "        super(EmptyDataStructures, self).__init__()\n",
    "    \n",
    "    def forward(self, x: torch.Tensor) -> Tuple[List[Tuple[int, float]], Dict[str, int]]:\n",
    "        # This annotates the list to be a ```List[Tuple[int, float]]```\n",
    "        my_list: List[Tuple[int, float]] = []\n",
    "        for i in range(10):\n",
    "            my_list.append((i, x.item()))\n",
    "        \n",
    "        my_dict: Dict[str, int] = {}\n",
    "        return my_list, my_dict\n",
    "    \n",
    "x = torch.jit.script(EmptyDataStructures())\n",
    "\n",
    "x"
   ]
  },
  {
   "cell_type": "markdown",
   "metadata": {},
   "source": [
    "## Optional Type Refinement\n",
    "\n",
    "TorchScript will refine the type of a variable of type ```Optional[T]``` when a comparison to ```None``` is made inside the conditional of an if-statement or checked in an ```assert```.\n",
    "\n",
    "The compiler can reason about multiple ```None``` checks that are combined with ```and```, ```or```, and ```not```. Refinement will also occur for else blocks of if-statements that are not explicitly written.\n",
    "\n",
    "The ```None``` check must be within the if-statement’s condition; assigning a ```None``` check to a variable and using it in the if-statement’s condition will not refine the types of variables in the check. Only local variables will be refined, an attribute like ```self.x``` will not and must assigned to a local variable to be refined.\n",
    "\n",
    "### Example (Refining Types on Parameters and Locals)"
   ]
  },
  {
   "cell_type": "code",
   "execution_count": 11,
   "metadata": {},
   "outputs": [
    {
     "data": {
      "text/plain": [
       "RecursiveScriptModule(original_name=M)"
      ]
     },
     "execution_count": 11,
     "metadata": {},
     "output_type": "execute_result"
    }
   ],
   "source": [
    "\n",
    "import torch\n",
    "import torch.nn as nn\n",
    "from typing import Optional\n",
    "\n",
    "\n",
    "class M(nn.Module):\n",
    "    z: Optional[int]\n",
    "\n",
    "    def __init__(self, z):\n",
    "        super(M, self).__init__()\n",
    "        # If `z` is None, its type cannot be inferred, so it must be Specified \n",
    "        self.z = z\n",
    "    \n",
    "    def forward(self, x, y, z):\n",
    "        # type: (Optional[int], Optional[int], Optional[int]) -> int\n",
    "        if  x is None:\n",
    "            x = 1\n",
    "            x += 1\n",
    "        \n",
    "        # Refinement for an attribute by assigning it to a local\n",
    "        z = self.z\n",
    "        if y is not None and z is not None:\n",
    "            x = y + z\n",
    "        \n",
    "        # Refinement via an `assert`\n",
    "        assert z is not None\n",
    "        x += z\n",
    "        return x\n",
    "\n",
    "module = torch.jit.script(M(2))\n",
    "module = torch.jit.script(M(None))\n",
    "\n",
    "module"
   ]
  },
  {
   "cell_type": "markdown",
   "metadata": {},
   "source": [
    "## TorchScript Classes\n",
    "\n",
    "Python classes can be used in TorchScript if they are annotated with ```@torch.jit.script```, similar to how you would declare a TorchScript function:"
   ]
  },
  {
   "cell_type": "code",
   "execution_count": 15,
   "metadata": {},
   "outputs": [
    {
     "name": "stdout",
     "output_type": "stream",
     "text": [
      "It works..!!\n"
     ]
    }
   ],
   "source": [
    "%run Code/TorchScriptCodeVersionCodeFiles/TorchScriptClasses/ErrorExplain.py"
   ]
  },
  {
   "cell_type": "markdown",
   "metadata": {},
   "source": [
    "The subset is restricted:\n",
    "- All Functions must be valid TorchScript Function (including ```__init__()```)\n",
    "- Classes must be new-style classes, as only ```__new__()``` is used for pybind11.\n",
    "- TorchScript Classes are statically typed. Members can only be declared by assigning to self in the ```__init__()``` method.\n",
    "\n",
    "Like, assigning ```self``` outside of the ```__init__()``` method."
   ]
  },
  {
   "cell_type": "code",
   "execution_count": 17,
   "metadata": {},
   "outputs": [
    {
     "ename": "RuntimeError",
     "evalue": "\nTried to set nonexistent attribute: x. Did you forget to initialize it in __init__()?:\n  File \"D:\\ML\\PyTorch\\PyTorch_Manual\\TorchScript Language Reference\\Code\\TorchScriptCodeVersionCodeFiles\\TorchScriptClasses\\SelfoutsideInit_Error.py\", line 6\n    def assign_x(self):\n        self.x = torch.rand(2, 3)\n        ~~~~~~~~~~~~~~~~~~~~~~~~ <--- HERE\n",
     "output_type": "error",
     "traceback": [
      "\u001b[1;31m---------------------------------------------------------------------------\u001b[0m",
      "\u001b[1;31mRuntimeError\u001b[0m                              Traceback (most recent call last)",
      "\u001b[1;32mD:\\ML\\PyTorch\\PyTorch_Manual\\TorchScript Language Reference\\Code\\TorchScriptCodeVersionCodeFiles\\TorchScriptClasses\\SelfoutsideInit_Error.py\u001b[0m in \u001b[0;36m<module>\u001b[1;34m\u001b[0m\n\u001b[0;32m      2\u001b[0m \u001b[1;33m\u001b[0m\u001b[0m\n\u001b[0;32m      3\u001b[0m \u001b[1;33m@\u001b[0m\u001b[0mtorch\u001b[0m\u001b[1;33m.\u001b[0m\u001b[0mjit\u001b[0m\u001b[1;33m.\u001b[0m\u001b[0mscript\u001b[0m\u001b[1;33m\u001b[0m\u001b[1;33m\u001b[0m\u001b[0m\n\u001b[1;32m----> 4\u001b[1;33m \u001b[1;32mclass\u001b[0m \u001b[0mFoo\u001b[0m\u001b[1;33m:\u001b[0m\u001b[1;33m\u001b[0m\u001b[1;33m\u001b[0m\u001b[0m\n\u001b[0m\u001b[0;32m      5\u001b[0m     \u001b[1;32mdef\u001b[0m \u001b[0massign_x\u001b[0m\u001b[1;33m(\u001b[0m\u001b[0mself\u001b[0m\u001b[1;33m)\u001b[0m\u001b[1;33m:\u001b[0m\u001b[1;33m\u001b[0m\u001b[1;33m\u001b[0m\u001b[0m\n\u001b[0;32m      6\u001b[0m         \u001b[0mself\u001b[0m\u001b[1;33m.\u001b[0m\u001b[0mx\u001b[0m \u001b[1;33m=\u001b[0m \u001b[0mtorch\u001b[0m\u001b[1;33m.\u001b[0m\u001b[0mrand\u001b[0m\u001b[1;33m(\u001b[0m\u001b[1;36m2\u001b[0m\u001b[1;33m,\u001b[0m \u001b[1;36m3\u001b[0m\u001b[1;33m)\u001b[0m\u001b[1;33m\u001b[0m\u001b[1;33m\u001b[0m\u001b[0m\n",
      "\u001b[1;32mC:\\ProgramData\\Anaconda3\\envs\\ML\\lib\\site-packages\\torch\\jit\\_script.py\u001b[0m in \u001b[0;36mscript\u001b[1;34m(obj, optimize, _frames_up, _rcb)\u001b[0m\n\u001b[0;32m   1126\u001b[0m         \u001b[1;32mif\u001b[0m \u001b[0m_rcb\u001b[0m \u001b[1;32mis\u001b[0m \u001b[1;32mNone\u001b[0m\u001b[1;33m:\u001b[0m\u001b[1;33m\u001b[0m\u001b[1;33m\u001b[0m\u001b[0m\n\u001b[0;32m   1127\u001b[0m             \u001b[0m_rcb\u001b[0m \u001b[1;33m=\u001b[0m \u001b[0m_jit_internal\u001b[0m\u001b[1;33m.\u001b[0m\u001b[0mcreateResolutionCallbackFromFrame\u001b[0m\u001b[1;33m(\u001b[0m\u001b[0m_frames_up\u001b[0m \u001b[1;33m+\u001b[0m \u001b[1;36m1\u001b[0m\u001b[1;33m)\u001b[0m\u001b[1;33m\u001b[0m\u001b[1;33m\u001b[0m\u001b[0m\n\u001b[1;32m-> 1128\u001b[1;33m         \u001b[0m_compile_and_register_class\u001b[0m\u001b[1;33m(\u001b[0m\u001b[0mobj\u001b[0m\u001b[1;33m,\u001b[0m \u001b[0m_rcb\u001b[0m\u001b[1;33m,\u001b[0m \u001b[0mqualified_name\u001b[0m\u001b[1;33m)\u001b[0m\u001b[1;33m\u001b[0m\u001b[1;33m\u001b[0m\u001b[0m\n\u001b[0m\u001b[0;32m   1129\u001b[0m         \u001b[1;32mreturn\u001b[0m \u001b[0mobj\u001b[0m\u001b[1;33m\u001b[0m\u001b[1;33m\u001b[0m\u001b[0m\n\u001b[0;32m   1130\u001b[0m     \u001b[1;32melse\u001b[0m\u001b[1;33m:\u001b[0m\u001b[1;33m\u001b[0m\u001b[1;33m\u001b[0m\u001b[0m\n",
      "\u001b[1;32mC:\\ProgramData\\Anaconda3\\envs\\ML\\lib\\site-packages\\torch\\jit\\_script.py\u001b[0m in \u001b[0;36m_compile_and_register_class\u001b[1;34m(obj, rcb, qualified_name)\u001b[0m\n\u001b[0;32m    136\u001b[0m     \u001b[0mast\u001b[0m \u001b[1;33m=\u001b[0m \u001b[0mget_jit_class_def\u001b[0m\u001b[1;33m(\u001b[0m\u001b[0mobj\u001b[0m\u001b[1;33m,\u001b[0m \u001b[0mobj\u001b[0m\u001b[1;33m.\u001b[0m\u001b[0m__name__\u001b[0m\u001b[1;33m)\u001b[0m\u001b[1;33m\u001b[0m\u001b[1;33m\u001b[0m\u001b[0m\n\u001b[0;32m    137\u001b[0m     \u001b[0mdefaults\u001b[0m \u001b[1;33m=\u001b[0m \u001b[0mtorch\u001b[0m\u001b[1;33m.\u001b[0m\u001b[0mjit\u001b[0m\u001b[1;33m.\u001b[0m\u001b[0mfrontend\u001b[0m\u001b[1;33m.\u001b[0m\u001b[0mget_default_args_for_class\u001b[0m\u001b[1;33m(\u001b[0m\u001b[0mobj\u001b[0m\u001b[1;33m)\u001b[0m\u001b[1;33m\u001b[0m\u001b[1;33m\u001b[0m\u001b[0m\n\u001b[1;32m--> 138\u001b[1;33m     \u001b[0mscript_class\u001b[0m \u001b[1;33m=\u001b[0m \u001b[0mtorch\u001b[0m\u001b[1;33m.\u001b[0m\u001b[0m_C\u001b[0m\u001b[1;33m.\u001b[0m\u001b[0m_jit_script_class_compile\u001b[0m\u001b[1;33m(\u001b[0m\u001b[0mqualified_name\u001b[0m\u001b[1;33m,\u001b[0m \u001b[0mast\u001b[0m\u001b[1;33m,\u001b[0m \u001b[0mdefaults\u001b[0m\u001b[1;33m,\u001b[0m \u001b[0mrcb\u001b[0m\u001b[1;33m)\u001b[0m\u001b[1;33m\u001b[0m\u001b[1;33m\u001b[0m\u001b[0m\n\u001b[0m\u001b[0;32m    139\u001b[0m     \u001b[0mtorch\u001b[0m\u001b[1;33m.\u001b[0m\u001b[0mjit\u001b[0m\u001b[1;33m.\u001b[0m\u001b[0m_state\u001b[0m\u001b[1;33m.\u001b[0m\u001b[0m_add_script_class\u001b[0m\u001b[1;33m(\u001b[0m\u001b[0mobj\u001b[0m\u001b[1;33m,\u001b[0m \u001b[0mscript_class\u001b[0m\u001b[1;33m)\u001b[0m\u001b[1;33m\u001b[0m\u001b[1;33m\u001b[0m\u001b[0m\n\u001b[0;32m    140\u001b[0m     \u001b[1;32mreturn\u001b[0m \u001b[0mscript_class\u001b[0m\u001b[1;33m\u001b[0m\u001b[1;33m\u001b[0m\u001b[0m\n",
      "\u001b[1;31mRuntimeError\u001b[0m: \nTried to set nonexistent attribute: x. Did you forget to initialize it in __init__()?:\n  File \"D:\\ML\\PyTorch\\PyTorch_Manual\\TorchScript Language Reference\\Code\\TorchScriptCodeVersionCodeFiles\\TorchScriptClasses\\SelfoutsideInit_Error.py\", line 6\n    def assign_x(self):\n        self.x = torch.rand(2, 3)\n        ~~~~~~~~~~~~~~~~~~~~~~~~ <--- HERE\n"
     ]
    }
   ],
   "source": [
    "%run Code/TorchScriptCodeVersionCodeFiles/TorchScriptClasses/SelfoutsideInit_Error.py"
   ]
  },
  {
   "cell_type": "markdown",
   "metadata": {},
   "source": [
    "- No expressions except method definitions are allowed in the body of the class.\n",
    "- No support for inheritance or any other polymorphism strategy, except for the inheriting from ```object``` to specify a new-style class.\n",
    "\n",
    "After a class is defined, it can be used in both TorchScript and Python interchangeably like any other TorchScript type:"
   ]
  },
  {
   "cell_type": "code",
   "execution_count": 18,
   "metadata": {},
   "outputs": [
    {
     "name": "stdout",
     "output_type": "stream",
     "text": [
      "tensor([[0.7308, 1.4268, 0.9483],\n",
      "        [0.7914, 1.0562, 1.7423]])\n"
     ]
    }
   ],
   "source": [
    "%run Code/TorchScriptCodeVersionCodeFiles/TorchScriptClasses/DeclareTorchScriptClass.py"
   ]
  },
  {
   "cell_type": "markdown",
   "metadata": {},
   "source": [
    "## TorchScript Enums\n",
    "\n",
    "Python Enums can be used in TorchScript without any extra annotation or code:\n",
    "\n",
    "```python\n",
    "from enum import Enum\n",
    "\n",
    "class Color(Enum):\n",
    "    RED = 1\n",
    "    GREEN = 2\n",
    "\n",
    "@torch.jit.script\n",
    "def enum_fn(x: Color, y: Color) -> bool:\n",
    "    if x == Color.RED:\n",
    "        return True\n",
    "\n",
    "    return x == y\n",
    "```\n",
    "\n",
    "After an Enum is defined, it can be used in both TorchScript and Python interchangeably like any other TorchScript Type.\n",
    "\n",
    "The Type of the values of an enum must be ```int```, ```float``` or ```str```. <b>All values must be of the same type</b>"
   ]
  },
  {
   "cell_type": "code",
   "execution_count": 20,
   "metadata": {},
   "outputs": [],
   "source": [
    "%run Code/TorchScriptCodeVersionCodeFiles/TorchScriptEnums.py # It works...!!"
   ]
  },
  {
   "cell_type": "markdown",
   "metadata": {},
   "source": [
    "## Named Tuples\n",
    "\n",
    "Types produced by ```collections.namedtuple``` can be used in TorchScript\n",
    "\n",
    "```python\n",
    "# Types produced by collections.namedtuple can be used in TorchScript.\n",
    "import torch\n",
    "from collections import namedtuple\n",
    "\n",
    "Point = namedtuple('Point', ['x', 'y'])\n",
    "\n",
    "@torch.jit.script\n",
    "def total(point):\n",
    "    # type: (Point) -> Tensor\n",
    "    return point.x + point.y\n",
    "\n",
    "p = Point(x=torch.rand(3), y=torch.rand(3))\n",
    "print(total(p))\n",
    "```"
   ]
  },
  {
   "cell_type": "code",
   "execution_count": 21,
   "metadata": {},
   "outputs": [
    {
     "name": "stdout",
     "output_type": "stream",
     "text": [
      "tensor([0.7753, 1.3711, 1.3238])\n"
     ]
    }
   ],
   "source": [
    "%run Code/TorchScriptCodeVersionCodeFiles/NamedTuples.py"
   ]
  },
  {
   "cell_type": "markdown",
   "metadata": {},
   "source": [
    "# Important\n",
    "\n",
    "## Function Calls\n",
    "\n",
    "Calls to <i>builtin-functions</i>\n",
    "\n",
    "```python\n",
    "torch.rand(3, dtype=torch.int)\n",
    "```"
   ]
  },
  {
   "cell_type": "code",
   "execution_count": 22,
   "metadata": {},
   "outputs": [
    {
     "ename": "RuntimeError",
     "evalue": "\"check_uniform_bounds\" not implemented for 'Int'",
     "output_type": "error",
     "traceback": [
      "\u001b[1;31m---------------------------------------------------------------------------\u001b[0m",
      "\u001b[1;31mRuntimeError\u001b[0m                              Traceback (most recent call last)",
      "\u001b[1;32m<ipython-input-22-d29124f02065>\u001b[0m in \u001b[0;36m<module>\u001b[1;34m\u001b[0m\n\u001b[1;32m----> 1\u001b[1;33m \u001b[0mtorch\u001b[0m\u001b[1;33m.\u001b[0m\u001b[0mrand\u001b[0m\u001b[1;33m(\u001b[0m\u001b[1;36m3\u001b[0m\u001b[1;33m,\u001b[0m \u001b[0mdtype\u001b[0m\u001b[1;33m=\u001b[0m\u001b[0mtorch\u001b[0m\u001b[1;33m.\u001b[0m\u001b[0mint\u001b[0m\u001b[1;33m)\u001b[0m\u001b[1;33m\u001b[0m\u001b[1;33m\u001b[0m\u001b[0m\n\u001b[0m",
      "\u001b[1;31mRuntimeError\u001b[0m: \"check_uniform_bounds\" not implemented for 'Int'"
     ]
    }
   ],
   "source": [
    "torch.rand(3, dtype=torch.int) # Error !! .....??"
   ]
  },
  {
   "cell_type": "markdown",
   "metadata": {},
   "source": [
    "Calls to other script functions:"
   ]
  },
  {
   "cell_type": "code",
   "execution_count": 23,
   "metadata": {},
   "outputs": [],
   "source": [
    "@torch.jit.script\n",
    "def foo(x):\n",
    "    return x + 1\n",
    "\n",
    "@torch.jit.script\n",
    "def bar(x):\n",
    "    return foo(x)"
   ]
  },
  {
   "cell_type": "markdown",
   "metadata": {},
   "source": [
    "## Method Calls\n",
    "\n",
    "Calls to methods of built-in types like Tensor: ```x.mm(y)```\n",
    "\n",
    "On modules, methods must be compiled before they can be called. To TorchScript Compiler recursively compiles methods ir sees when compiling other methods.\n",
    "\n",
    "By default, compilation starts on ```forward()``` method. Any methods called by ```forward``` will be compiled, and any methods called by those methods, and so on. To start compilation at a method other than ```forward```, use the ```@torch.jit.export``` decorator (forward implicitly is marked ```@torch.jit.export```).\n",
    "\n",
    "Calling a submodule directly (i.e ```self.resnet(input)```) is equivalent to calling its ```forward``` method (i.e ```self.resnet.forward(input)```)"
   ]
  },
  {
   "cell_type": "code",
   "execution_count": null,
   "metadata": {},
   "outputs": [],
   "source": []
  }
 ],
 "metadata": {
  "kernelspec": {
   "display_name": "ML",
   "language": "python",
   "name": "ml"
  },
  "language_info": {
   "codemirror_mode": {
    "name": "ipython",
    "version": 3
   },
   "file_extension": ".py",
   "mimetype": "text/x-python",
   "name": "python",
   "nbconvert_exporter": "python",
   "pygments_lexer": "ipython3",
   "version": "3.8.5"
  }
 },
 "nbformat": 4,
 "nbformat_minor": 4
}
