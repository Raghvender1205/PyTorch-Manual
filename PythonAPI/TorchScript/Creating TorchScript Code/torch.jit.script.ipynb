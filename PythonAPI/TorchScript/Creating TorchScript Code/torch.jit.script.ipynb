{
 "cells": [
  {
   "cell_type": "markdown",
   "metadata": {},
   "source": [
    "## ```torch.jit.script```\n",
    "\n",
    "```python\n",
    "torch.jit.script(obj, optimize=None, _frames_up=0, _rcb=None)\n",
    "```\n",
    "\n",
    "Scripting a function or ```nn.Module``` will inspect the source code, compile it as TorchScript code and return ```ScriptModule``` or ```ScriptFunction```.\n",
    "\n",
    "### Parameters\n",
    "\n",
    "<b>obj</b>(callable, class, or ```nn.Module```) - The ```nn.Module```, function or class type to be compiled.\n",
    "\n",
    "### Returns\n",
    "\n",
    "If ```obj``` is ```nn.Module```, ```script``` returns a ```ScriptModule``` object. If ```obj``` is a standalone Function, a ```ScriptFunction``` will be returned\n",
    "\n",
    "## 1. Scripting a Function\n",
    "\n",
    "The ```@torch.jit.script``` decorator will construct a ```ScriptFunction``` by compiling the body of the function "
   ]
  },
  {
   "cell_type": "code",
   "execution_count": 1,
   "metadata": {},
   "outputs": [
    {
     "name": "stdout",
     "output_type": "stream",
     "text": [
      "<class 'torch.jit.ScriptFunction'>\n"
     ]
    },
    {
     "data": {
      "text/plain": [
       "tensor([[1., 1.],\n",
       "        [1., 1.]])"
      ]
     },
     "execution_count": 1,
     "metadata": {},
     "output_type": "execute_result"
    }
   ],
   "source": [
    "import torch\n",
    "\n",
    "@torch.jit.script\n",
    "def foo(x, y):\n",
    "    if x.max() > y.max():\n",
    "        r = x\n",
    "    else:\n",
    "        r = y\n",
    "    return r\n",
    "\n",
    "print(type(foo)) # torch.jit.ScriptFunction\n",
    "\n",
    "# Call the function using TorchScript interpreter\n",
    "foo(torch.ones(2, 2), torch.ones(2, 2))"
   ]
  },
  {
   "cell_type": "markdown",
   "metadata": {},
   "source": [
    "## 2. Scripting an ```nn.Module```\n",
    "\n",
    "Scripting an ```nn.Module``` by default will compile the ```forward``` method and recursively compile any methods, submodules, and functions called by ```forward```.\n",
    "\n",
    "If a ```nn.Module``` only uses features supported in TorchScript, no changes to the original module code should be necessary. ```script``` will construct ScriptModule that has copies of the attributes, parameters, and methods of the original module.\n",
    "\n",
    "### Example (Scripting a Single Module)\n",
    "\n",
    "```python\n",
    "# Scripting a Single Module\n",
    "import torch\n",
    "import torch.nn as nn\n",
    "\n",
    "class MyModule(nn.Module):\n",
    "    def __init__(self, N, M):\n",
    "        super(MyModule, self).__init__()\n",
    "        \n",
    "        # This parameter will be copied to the new ScriptModule\n",
    "        self.weight = nn.Parameter(torch.randn(N, M))\n",
    "\n",
    "        # When the submodule is used, it will be compiled\n",
    "        self.linear = nn.Linear(N, M)\n",
    "    \n",
    "    def forward(self, x):\n",
    "        output = self.weight.mv(x)\n",
    "\n",
    "        # This calls the `forward` method of `nn.Linear` module, which will\n",
    "        # cause the `self.linear` submodule to be compiled to a `ScriptModule`\n",
    "        output = self.linear(output)\n",
    "        return output\n",
    "\n",
    "scripted_module = torch.jit.script(MyModule(2, 3)) \n",
    "print(scripted_module)\n",
    "```"
   ]
  },
  {
   "cell_type": "code",
   "execution_count": 3,
   "metadata": {},
   "outputs": [
    {
     "name": "stdout",
     "output_type": "stream",
     "text": [
      "RecursiveScriptModule(\n",
      "  original_name=MyModule\n",
      "  (linear): RecursiveScriptModule(original_name=Linear)\n",
      ")\n"
     ]
    }
   ],
   "source": [
    "%run Code/Scripting_nnModule/ScriptingSingleModule.py"
   ]
  },
  {
   "cell_type": "markdown",
   "metadata": {},
   "source": [
    "### Example (Scripting a Module with traced SubModules)\n",
    "\n",
    "```python\n",
    "# scripting a module with traced submodules\n",
    "import torch\n",
    "import torch.nn as nn\n",
    "import torch.nn.functional as F\n",
    "\n",
    "class MyModule(nn.Module):\n",
    "    def __init__(self):\n",
    "        super(MyModule, self).__init__()\n",
    "\n",
    "        # torch.jit.trace produces the ScriptModule's conv1 and conv2\n",
    "        self.conv1 = torch.jit.trace(nn.Conv2d(1, 10, 5), torch.random(1, 1, 16, 16))\n",
    "        self.conv2 = torch.jit.trace(nn.Conv2d(20, 20, 5), torch.rand(1, 20, 16, 16))\n",
    "\n",
    "    def forward(self, x):\n",
    "        x = F.relu(self.conv1(x))\n",
    "        x = F.relu(self.conv2(x))\n",
    "\n",
    "scripted_module = torch.jit.script(MyModule()) \n",
    "print(scripted_module)\n",
    "```"
   ]
  },
  {
   "cell_type": "code",
   "execution_count": 5,
   "metadata": {},
   "outputs": [
    {
     "name": "stdout",
     "output_type": "stream",
     "text": [
      "RecursiveScriptModule(\n",
      "  original_name=MyModule\n",
      "  (conv1): Conv2d(original_name=Conv2d)\n",
      "  (conv2): Conv2d(original_name=Conv2d)\n",
      ")\n"
     ]
    }
   ],
   "source": [
    "%run Code/Scripting_nnModule/ScriptingModule_TracedSubmodules.py"
   ]
  },
  {
   "cell_type": "markdown",
   "metadata": {},
   "source": [
    "To compile a method other than ```forward```, add the ```@torch.jit.export``` decorator to the method. \n",
    "\n",
    "To opt out of compilation use ```@torch.jit.unused``` or ```@torch.jit.ignore```\n",
    "\n",
    "### Example (An Exported and ignored method in  a Module)\n",
    "\n",
    "```python\n",
    "# FileName :- Exported_IgnoredMethod.py\n",
    "\n",
    "# An Exported and ignored method in a Module\n",
    "import torch\n",
    "import torch.nn as nn\n",
    "\n",
    "class MyModule(nn.Module):\n",
    "    def __init__(self):\n",
    "        super(MyModule, self).__init__()\n",
    "\n",
    "    @torch.jit.export\n",
    "    def some_entry_point(self, input):\n",
    "        return input + 10\n",
    "    \n",
    "    @torch.jit.ignore\n",
    "    def python_only_fn(self, input):\n",
    "        # This Function won't be compiled\n",
    "        import pdb\n",
    "        pdb.set_trace()\n",
    "    \n",
    "    def forward(self, input):\n",
    "        if self.training:\n",
    "            self.python_only_fn(input)\n",
    "        return input * 99\n",
    "    \n",
    "scripted_module = torch.jit.script(MyModule())\n",
    "print(scripted_module.some_entry_point(torch.randn(2, 2)))\n",
    "print(scripted_module(torch.randn(2, 2)))\n",
    "```"
   ]
  },
  {
   "cell_type": "code",
   "execution_count": 6,
   "metadata": {},
   "outputs": [
    {
     "name": "stdout",
     "output_type": "stream",
     "text": [
      "tensor([[10.4527,  8.8221],\n",
      "        [ 9.9924,  8.8424]])\n",
      "--Return--\n",
      "None\n",
      "> d:\\ml\\pytorch\\pytorch_manual\\creating torchscript code\\code\\scripting_nnmodule\\exported_ignoredmethod.py(17)python_only_fn()\n",
      "     15         # This Function won't be compiled\n",
      "     16         import pdb\n",
      "---> 17         pdb.set_trace()\n",
      "     18 \n",
      "     19     def forward(self, input):\n",
      "\n",
      "ipdb> 1\n",
      "1\n",
      "ipdb> 12\n",
      "12\n",
      "--KeyboardInterrupt--\n",
      "\n",
      "KeyboardInterrupt: Interrupted by user\n",
      "tensor([[ 99.2354, -38.8926],\n",
      "        [ -6.6966,   1.1183]])\n"
     ]
    }
   ],
   "source": [
    "%run Code/Scripting_nnModule/Exported_IgnoredMethod.py"
   ]
  },
  {
   "cell_type": "code",
   "execution_count": null,
   "metadata": {},
   "outputs": [],
   "source": []
  }
 ],
 "metadata": {
  "kernelspec": {
   "display_name": "ML",
   "language": "python",
   "name": "ml"
  },
  "language_info": {
   "codemirror_mode": {
    "name": "ipython",
    "version": 3
   },
   "file_extension": ".py",
   "mimetype": "text/x-python",
   "name": "python",
   "nbconvert_exporter": "python",
   "pygments_lexer": "ipython3",
   "version": "3.8.5"
  }
 },
 "nbformat": 4,
 "nbformat_minor": 4
}
