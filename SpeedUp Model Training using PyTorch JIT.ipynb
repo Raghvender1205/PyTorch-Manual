{
 "cells": [
  {
   "cell_type": "markdown",
   "id": "5f6a19ae",
   "metadata": {},
   "source": [
    "https://spell.ml/blog/pytorch-jit-YBmYuBEAACgAiv71\n",
    "\n",
    "PyTorch JIT `torch.jit` is a nifty feature of PyTorch which is used to implement performant custom module code.\n",
    "\n",
    "If you've implemented a `SOTA` or `near-SOTA` based neural network, you're very likely building and testing layer architectures from recent research which is'nt event in PyTorch. As these implementations are not `optimized` by PyTorch they are slower than their standard library equivalents.\n",
    "\n",
    "`torch.jit` can be used to enable 2x-3x speedups on `custom module code`.\n",
    "\n",
    "## Eager v/s Graph Execution\n",
    "There are 2 different dormant models of execution in Deep Learning `eager` and `graph`.\n",
    "\n",
    "A Framework is said to use `eager execution` if it builds its `computational graph` (set of steps to perform `forward` and `backward` propogation) at runtime. Every `forward` pass through a PyTorch model constructs an `autograd` computational graph; the subsequent call to `backward` then consumes this graph.\n",
    "\n",
    "The code that's actually executing the mathematical operations involved is ultimately a C++ or CUDA kernel, but the result of each individual operation is immediately transferred to (and accessible from) the Python process, because the Python process is the `\"intelligent\"`part—it's what's managing the `computational graph` as a whole. This is why debugging in PyTorch is as simple as dropping `import pdb; pdb.set_trace()` in the middle of your code.\n",
    "\n",
    "\n"
   ]
  },
  {
   "cell_type": "code",
   "execution_count": null,
   "id": "6866c5b0",
   "metadata": {},
   "outputs": [],
   "source": []
  }
 ],
 "metadata": {
  "kernelspec": {
   "display_name": "Python 3 (ipykernel)",
   "language": "python",
   "name": "python3"
  },
  "language_info": {
   "codemirror_mode": {
    "name": "ipython",
    "version": 3
   },
   "file_extension": ".py",
   "mimetype": "text/x-python",
   "name": "python",
   "nbconvert_exporter": "python",
   "pygments_lexer": "ipython3",
   "version": "3.10.4"
  }
 },
 "nbformat": 4,
 "nbformat_minor": 5
}
