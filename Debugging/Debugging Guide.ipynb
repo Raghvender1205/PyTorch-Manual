{
 "cells": [
  {
   "cell_type": "markdown",
   "metadata": {},
   "source": [
    "# Debugging\n",
    "\n",
    "## Disable JIT for Debugging\n",
    "\n",
    "#### ```PYTORCH_JIT```\n",
    "\n",
    "Setting the environment variable ```PYTORCH_JIT=0``` will disable all script and tracing annotations. If there is hard-to-debug error in one of the TorchScript models, you can use this flag to force everything to run native Python. Since TorchScript is disabled with this flag, we can use tools like ```pdb``` to debug the model code like this."
   ]
  },
  {
   "cell_type": "code",
   "execution_count": 1,
   "metadata": {},
   "outputs": [
    {
     "name": "stdout",
     "output_type": "stream",
     "text": [
      "1.9.0+cu111\n"
     ]
    }
   ],
   "source": [
    "import torch\n",
    "\n",
    "print(torch.__version__)"
   ]
  },
  {
   "cell_type": "code",
   "execution_count": 2,
   "metadata": {},
   "outputs": [
    {
     "name": "stdout",
     "output_type": "stream",
     "text": [
      "> \u001b[1;32m<ipython-input-2-6d7926d75035>\u001b[0m(12)\u001b[0;36mfn\u001b[1;34m()\u001b[0m\n",
      "\u001b[1;32m     10 \u001b[1;33m    \u001b[0mx\u001b[0m \u001b[1;33m=\u001b[0m \u001b[0mtorch\u001b[0m\u001b[1;33m.\u001b[0m\u001b[0mneg\u001b[0m\u001b[1;33m(\u001b[0m\u001b[0mx\u001b[0m\u001b[1;33m)\u001b[0m\u001b[1;33m\u001b[0m\u001b[1;33m\u001b[0m\u001b[0m\n",
      "\u001b[0m\u001b[1;32m     11 \u001b[1;33m    \u001b[0mpdb\u001b[0m\u001b[1;33m.\u001b[0m\u001b[0mset_trace\u001b[0m\u001b[1;33m(\u001b[0m\u001b[1;33m)\u001b[0m\u001b[1;33m\u001b[0m\u001b[1;33m\u001b[0m\u001b[0m\n",
      "\u001b[0m\u001b[1;32m---> 12 \u001b[1;33m    \u001b[1;32mreturn\u001b[0m \u001b[0mscripted_fn\u001b[0m\u001b[1;33m(\u001b[0m\u001b[0mx\u001b[0m\u001b[1;33m)\u001b[0m\u001b[1;33m\u001b[0m\u001b[1;33m\u001b[0m\u001b[0m\n",
      "\u001b[0m\u001b[1;32m     13 \u001b[1;33m\u001b[1;33m\u001b[0m\u001b[0m\n",
      "\u001b[0m\u001b[1;32m     14 \u001b[1;33m\u001b[0mtraced_fn\u001b[0m \u001b[1;33m=\u001b[0m \u001b[0mtorch\u001b[0m\u001b[1;33m.\u001b[0m\u001b[0mjit\u001b[0m\u001b[1;33m.\u001b[0m\u001b[0mtrace\u001b[0m\u001b[1;33m(\u001b[0m\u001b[0mfn\u001b[0m\u001b[1;33m,\u001b[0m \u001b[1;33m(\u001b[0m\u001b[0mtorch\u001b[0m\u001b[1;33m.\u001b[0m\u001b[0mrand\u001b[0m\u001b[1;33m(\u001b[0m\u001b[1;36m4\u001b[0m\u001b[1;33m,\u001b[0m \u001b[1;36m5\u001b[0m\u001b[1;33m)\u001b[0m\u001b[1;33m)\u001b[0m\u001b[1;33m)\u001b[0m\u001b[1;33m\u001b[0m\u001b[1;33m\u001b[0m\u001b[0m\n",
      "\u001b[0m\n",
      "ipdb> x\n",
      "tensor([[-0.7684, -0.5101, -0.7906, -0.4205, -0.9304],\n",
      "        [-0.9736, -0.8795, -0.9005, -0.3209, -0.9383],\n",
      "        [-0.0357, -0.7428, -0.5549, -0.5360, -0.9390],\n",
      "        [-0.7503, -0.7314, -0.7051, -0.3489, -0.1526]])\n",
      "ipdb> exit\n"
     ]
    },
    {
     "ename": "BdbQuit",
     "evalue": "",
     "output_type": "error",
     "traceback": [
      "\u001b[1;31m---------------------------------------------------------------------------\u001b[0m",
      "\u001b[1;31mBdbQuit\u001b[0m                                   Traceback (most recent call last)",
      "\u001b[1;32m<ipython-input-2-6d7926d75035>\u001b[0m in \u001b[0;36m<module>\u001b[1;34m\u001b[0m\n\u001b[0;32m     12\u001b[0m     \u001b[1;32mreturn\u001b[0m \u001b[0mscripted_fn\u001b[0m\u001b[1;33m(\u001b[0m\u001b[0mx\u001b[0m\u001b[1;33m)\u001b[0m\u001b[1;33m\u001b[0m\u001b[1;33m\u001b[0m\u001b[0m\n\u001b[0;32m     13\u001b[0m \u001b[1;33m\u001b[0m\u001b[0m\n\u001b[1;32m---> 14\u001b[1;33m \u001b[0mtraced_fn\u001b[0m \u001b[1;33m=\u001b[0m \u001b[0mtorch\u001b[0m\u001b[1;33m.\u001b[0m\u001b[0mjit\u001b[0m\u001b[1;33m.\u001b[0m\u001b[0mtrace\u001b[0m\u001b[1;33m(\u001b[0m\u001b[0mfn\u001b[0m\u001b[1;33m,\u001b[0m \u001b[1;33m(\u001b[0m\u001b[0mtorch\u001b[0m\u001b[1;33m.\u001b[0m\u001b[0mrand\u001b[0m\u001b[1;33m(\u001b[0m\u001b[1;36m4\u001b[0m\u001b[1;33m,\u001b[0m \u001b[1;36m5\u001b[0m\u001b[1;33m)\u001b[0m\u001b[1;33m)\u001b[0m\u001b[1;33m)\u001b[0m\u001b[1;33m\u001b[0m\u001b[1;33m\u001b[0m\u001b[0m\n\u001b[0m\u001b[0;32m     15\u001b[0m \u001b[0mtraced_fn\u001b[0m\u001b[1;33m(\u001b[0m\u001b[0mtorch\u001b[0m\u001b[1;33m.\u001b[0m\u001b[0mrand\u001b[0m\u001b[1;33m(\u001b[0m\u001b[1;36m3\u001b[0m\u001b[1;33m,\u001b[0m \u001b[1;36m4\u001b[0m\u001b[1;33m)\u001b[0m\u001b[1;33m)\u001b[0m\u001b[1;33m\u001b[0m\u001b[1;33m\u001b[0m\u001b[0m\n",
      "\u001b[1;32mC:\\ProgramData\\Anaconda3\\envs\\ML\\lib\\site-packages\\torch\\jit\\_trace.py\u001b[0m in \u001b[0;36mtrace\u001b[1;34m(func, example_inputs, optimize, check_trace, check_inputs, check_tolerance, strict, _force_outplace, _module_class, _compilation_unit)\u001b[0m\n\u001b[0;32m    778\u001b[0m \u001b[1;33m\u001b[0m\u001b[0m\n\u001b[0;32m    779\u001b[0m     \u001b[0mname\u001b[0m \u001b[1;33m=\u001b[0m \u001b[0m_qualified_name\u001b[0m\u001b[1;33m(\u001b[0m\u001b[0mfunc\u001b[0m\u001b[1;33m)\u001b[0m\u001b[1;33m\u001b[0m\u001b[1;33m\u001b[0m\u001b[0m\n\u001b[1;32m--> 780\u001b[1;33m     traced = torch._C._create_function_from_trace(\n\u001b[0m\u001b[0;32m    781\u001b[0m         \u001b[0mname\u001b[0m\u001b[1;33m,\u001b[0m\u001b[1;33m\u001b[0m\u001b[1;33m\u001b[0m\u001b[0m\n\u001b[0;32m    782\u001b[0m         \u001b[0mfunc\u001b[0m\u001b[1;33m,\u001b[0m\u001b[1;33m\u001b[0m\u001b[1;33m\u001b[0m\u001b[0m\n",
      "\u001b[1;32m<ipython-input-2-6d7926d75035>\u001b[0m in \u001b[0;36mfn\u001b[1;34m(x)\u001b[0m\n\u001b[0;32m     10\u001b[0m     \u001b[0mx\u001b[0m \u001b[1;33m=\u001b[0m \u001b[0mtorch\u001b[0m\u001b[1;33m.\u001b[0m\u001b[0mneg\u001b[0m\u001b[1;33m(\u001b[0m\u001b[0mx\u001b[0m\u001b[1;33m)\u001b[0m\u001b[1;33m\u001b[0m\u001b[1;33m\u001b[0m\u001b[0m\n\u001b[0;32m     11\u001b[0m     \u001b[0mpdb\u001b[0m\u001b[1;33m.\u001b[0m\u001b[0mset_trace\u001b[0m\u001b[1;33m(\u001b[0m\u001b[1;33m)\u001b[0m\u001b[1;33m\u001b[0m\u001b[1;33m\u001b[0m\u001b[0m\n\u001b[1;32m---> 12\u001b[1;33m     \u001b[1;32mreturn\u001b[0m \u001b[0mscripted_fn\u001b[0m\u001b[1;33m(\u001b[0m\u001b[0mx\u001b[0m\u001b[1;33m)\u001b[0m\u001b[1;33m\u001b[0m\u001b[1;33m\u001b[0m\u001b[0m\n\u001b[0m\u001b[0;32m     13\u001b[0m \u001b[1;33m\u001b[0m\u001b[0m\n\u001b[0;32m     14\u001b[0m \u001b[0mtraced_fn\u001b[0m \u001b[1;33m=\u001b[0m \u001b[0mtorch\u001b[0m\u001b[1;33m.\u001b[0m\u001b[0mjit\u001b[0m\u001b[1;33m.\u001b[0m\u001b[0mtrace\u001b[0m\u001b[1;33m(\u001b[0m\u001b[0mfn\u001b[0m\u001b[1;33m,\u001b[0m \u001b[1;33m(\u001b[0m\u001b[0mtorch\u001b[0m\u001b[1;33m.\u001b[0m\u001b[0mrand\u001b[0m\u001b[1;33m(\u001b[0m\u001b[1;36m4\u001b[0m\u001b[1;33m,\u001b[0m \u001b[1;36m5\u001b[0m\u001b[1;33m)\u001b[0m\u001b[1;33m)\u001b[0m\u001b[1;33m)\u001b[0m\u001b[1;33m\u001b[0m\u001b[1;33m\u001b[0m\u001b[0m\n",
      "\u001b[1;32m<ipython-input-2-6d7926d75035>\u001b[0m in \u001b[0;36mfn\u001b[1;34m(x)\u001b[0m\n\u001b[0;32m     10\u001b[0m     \u001b[0mx\u001b[0m \u001b[1;33m=\u001b[0m \u001b[0mtorch\u001b[0m\u001b[1;33m.\u001b[0m\u001b[0mneg\u001b[0m\u001b[1;33m(\u001b[0m\u001b[0mx\u001b[0m\u001b[1;33m)\u001b[0m\u001b[1;33m\u001b[0m\u001b[1;33m\u001b[0m\u001b[0m\n\u001b[0;32m     11\u001b[0m     \u001b[0mpdb\u001b[0m\u001b[1;33m.\u001b[0m\u001b[0mset_trace\u001b[0m\u001b[1;33m(\u001b[0m\u001b[1;33m)\u001b[0m\u001b[1;33m\u001b[0m\u001b[1;33m\u001b[0m\u001b[0m\n\u001b[1;32m---> 12\u001b[1;33m     \u001b[1;32mreturn\u001b[0m \u001b[0mscripted_fn\u001b[0m\u001b[1;33m(\u001b[0m\u001b[0mx\u001b[0m\u001b[1;33m)\u001b[0m\u001b[1;33m\u001b[0m\u001b[1;33m\u001b[0m\u001b[0m\n\u001b[0m\u001b[0;32m     13\u001b[0m \u001b[1;33m\u001b[0m\u001b[0m\n\u001b[0;32m     14\u001b[0m \u001b[0mtraced_fn\u001b[0m \u001b[1;33m=\u001b[0m \u001b[0mtorch\u001b[0m\u001b[1;33m.\u001b[0m\u001b[0mjit\u001b[0m\u001b[1;33m.\u001b[0m\u001b[0mtrace\u001b[0m\u001b[1;33m(\u001b[0m\u001b[0mfn\u001b[0m\u001b[1;33m,\u001b[0m \u001b[1;33m(\u001b[0m\u001b[0mtorch\u001b[0m\u001b[1;33m.\u001b[0m\u001b[0mrand\u001b[0m\u001b[1;33m(\u001b[0m\u001b[1;36m4\u001b[0m\u001b[1;33m,\u001b[0m \u001b[1;36m5\u001b[0m\u001b[1;33m)\u001b[0m\u001b[1;33m)\u001b[0m\u001b[1;33m)\u001b[0m\u001b[1;33m\u001b[0m\u001b[1;33m\u001b[0m\u001b[0m\n",
      "\u001b[1;32mC:\\ProgramData\\Anaconda3\\envs\\ML\\lib\\bdb.py\u001b[0m in \u001b[0;36mtrace_dispatch\u001b[1;34m(self, frame, event, arg)\u001b[0m\n\u001b[0;32m     86\u001b[0m             \u001b[1;32mreturn\u001b[0m \u001b[1;31m# None\u001b[0m\u001b[1;33m\u001b[0m\u001b[1;33m\u001b[0m\u001b[0m\n\u001b[0;32m     87\u001b[0m         \u001b[1;32mif\u001b[0m \u001b[0mevent\u001b[0m \u001b[1;33m==\u001b[0m \u001b[1;34m'line'\u001b[0m\u001b[1;33m:\u001b[0m\u001b[1;33m\u001b[0m\u001b[1;33m\u001b[0m\u001b[0m\n\u001b[1;32m---> 88\u001b[1;33m             \u001b[1;32mreturn\u001b[0m \u001b[0mself\u001b[0m\u001b[1;33m.\u001b[0m\u001b[0mdispatch_line\u001b[0m\u001b[1;33m(\u001b[0m\u001b[0mframe\u001b[0m\u001b[1;33m)\u001b[0m\u001b[1;33m\u001b[0m\u001b[1;33m\u001b[0m\u001b[0m\n\u001b[0m\u001b[0;32m     89\u001b[0m         \u001b[1;32mif\u001b[0m \u001b[0mevent\u001b[0m \u001b[1;33m==\u001b[0m \u001b[1;34m'call'\u001b[0m\u001b[1;33m:\u001b[0m\u001b[1;33m\u001b[0m\u001b[1;33m\u001b[0m\u001b[0m\n\u001b[0;32m     90\u001b[0m             \u001b[1;32mreturn\u001b[0m \u001b[0mself\u001b[0m\u001b[1;33m.\u001b[0m\u001b[0mdispatch_call\u001b[0m\u001b[1;33m(\u001b[0m\u001b[0mframe\u001b[0m\u001b[1;33m,\u001b[0m \u001b[0marg\u001b[0m\u001b[1;33m)\u001b[0m\u001b[1;33m\u001b[0m\u001b[1;33m\u001b[0m\u001b[0m\n",
      "\u001b[1;32mC:\\ProgramData\\Anaconda3\\envs\\ML\\lib\\bdb.py\u001b[0m in \u001b[0;36mdispatch_line\u001b[1;34m(self, frame)\u001b[0m\n\u001b[0;32m    111\u001b[0m         \u001b[1;32mif\u001b[0m \u001b[0mself\u001b[0m\u001b[1;33m.\u001b[0m\u001b[0mstop_here\u001b[0m\u001b[1;33m(\u001b[0m\u001b[0mframe\u001b[0m\u001b[1;33m)\u001b[0m \u001b[1;32mor\u001b[0m \u001b[0mself\u001b[0m\u001b[1;33m.\u001b[0m\u001b[0mbreak_here\u001b[0m\u001b[1;33m(\u001b[0m\u001b[0mframe\u001b[0m\u001b[1;33m)\u001b[0m\u001b[1;33m:\u001b[0m\u001b[1;33m\u001b[0m\u001b[1;33m\u001b[0m\u001b[0m\n\u001b[0;32m    112\u001b[0m             \u001b[0mself\u001b[0m\u001b[1;33m.\u001b[0m\u001b[0muser_line\u001b[0m\u001b[1;33m(\u001b[0m\u001b[0mframe\u001b[0m\u001b[1;33m)\u001b[0m\u001b[1;33m\u001b[0m\u001b[1;33m\u001b[0m\u001b[0m\n\u001b[1;32m--> 113\u001b[1;33m             \u001b[1;32mif\u001b[0m \u001b[0mself\u001b[0m\u001b[1;33m.\u001b[0m\u001b[0mquitting\u001b[0m\u001b[1;33m:\u001b[0m \u001b[1;32mraise\u001b[0m \u001b[0mBdbQuit\u001b[0m\u001b[1;33m\u001b[0m\u001b[1;33m\u001b[0m\u001b[0m\n\u001b[0m\u001b[0;32m    114\u001b[0m         \u001b[1;32mreturn\u001b[0m \u001b[0mself\u001b[0m\u001b[1;33m.\u001b[0m\u001b[0mtrace_dispatch\u001b[0m\u001b[1;33m\u001b[0m\u001b[1;33m\u001b[0m\u001b[0m\n\u001b[0;32m    115\u001b[0m \u001b[1;33m\u001b[0m\u001b[0m\n",
      "\u001b[1;31mBdbQuit\u001b[0m: "
     ]
    }
   ],
   "source": [
    "import pdb\n",
    "    \n",
    "@torch.jit.script\n",
    "def scripted_fn(x: torch.Tensor):\n",
    "    for i in range(12):\n",
    "        x += x\n",
    "    return x\n",
    "\n",
    "def fn(x):\n",
    "    x = torch.neg(x)\n",
    "    pdb.set_trace()\n",
    "    return scripted_fn(x)\n",
    "\n",
    "traced_fn = torch.jit.trace(fn, (torch.rand(4, 5)))\n",
    "traced_fn(torch.rand(3, 4))"
   ]
  },
  {
   "cell_type": "markdown",
   "metadata": {},
   "source": [
    "Debugging this script with ```pdb``` works except for when we invoke the ```@torch.jit.script``` function. We can globally disable JIT, so that we can call the ```@torch.jit.script``` function as a normal Python function and not compile it.\n",
    "\n",
    "To disable the TorchScript Compiler for a specific function then ```@torch.jit.ignore```\n",
    "\n",
    "## Inspecting Code\n",
    "\n",
    "TorchScript provides a pretty printer for all ```ScriptModule``` instances. This pprint gives an interpretation of the script method's code as a valid ```Python``` Syntax like this:"
   ]
  },
  {
   "cell_type": "code",
   "execution_count": 11,
   "metadata": {},
   "outputs": [
    {
     "ename": "RuntimeError",
     "evalue": "\nall inputs of range must be ints, found Tensor (inferred) in argument 0:\n  File \"<ipython-input-11-8c0445dd483c>\", line 5\n    # Type: (int) -> torch.Tensor\n    rv = torch.zeros(3, 4)\n    for i in range(len):\n             ~~~~~~~~~ <--- HERE\n        if i < 10:\n            rv -= 1.0\n",
     "output_type": "error",
     "traceback": [
      "\u001b[1;31m---------------------------------------------------------------------------\u001b[0m",
      "\u001b[1;31mRuntimeError\u001b[0m                              Traceback (most recent call last)",
      "\u001b[1;32m<ipython-input-11-8c0445dd483c>\u001b[0m in \u001b[0;36m<module>\u001b[1;34m\u001b[0m\n\u001b[0;32m      1\u001b[0m \u001b[1;33m@\u001b[0m\u001b[0mtorch\u001b[0m\u001b[1;33m.\u001b[0m\u001b[0mjit\u001b[0m\u001b[1;33m.\u001b[0m\u001b[0mscript\u001b[0m\u001b[1;33m\u001b[0m\u001b[1;33m\u001b[0m\u001b[0m\n\u001b[1;32m----> 2\u001b[1;33m \u001b[1;32mdef\u001b[0m \u001b[0mfoo\u001b[0m\u001b[1;33m(\u001b[0m\u001b[0mlen\u001b[0m\u001b[1;33m)\u001b[0m\u001b[1;33m:\u001b[0m\u001b[1;33m\u001b[0m\u001b[1;33m\u001b[0m\u001b[0m\n\u001b[0m\u001b[0;32m      3\u001b[0m     \u001b[1;31m# Type: (int) -> torch.Tensor\u001b[0m\u001b[1;33m\u001b[0m\u001b[1;33m\u001b[0m\u001b[1;33m\u001b[0m\u001b[0m\n\u001b[0;32m      4\u001b[0m     \u001b[0mrv\u001b[0m \u001b[1;33m=\u001b[0m \u001b[0mtorch\u001b[0m\u001b[1;33m.\u001b[0m\u001b[0mzeros\u001b[0m\u001b[1;33m(\u001b[0m\u001b[1;36m3\u001b[0m\u001b[1;33m,\u001b[0m \u001b[1;36m4\u001b[0m\u001b[1;33m)\u001b[0m\u001b[1;33m\u001b[0m\u001b[1;33m\u001b[0m\u001b[0m\n\u001b[0;32m      5\u001b[0m     \u001b[1;32mfor\u001b[0m \u001b[0mi\u001b[0m \u001b[1;32min\u001b[0m \u001b[0mrange\u001b[0m\u001b[1;33m(\u001b[0m\u001b[0mlen\u001b[0m\u001b[1;33m)\u001b[0m\u001b[1;33m:\u001b[0m\u001b[1;33m\u001b[0m\u001b[1;33m\u001b[0m\u001b[0m\n",
      "\u001b[1;32mC:\\ProgramData\\Anaconda3\\envs\\ML\\lib\\site-packages\\torch\\jit\\_script.py\u001b[0m in \u001b[0;36mscript\u001b[1;34m(obj, optimize, _frames_up, _rcb)\u001b[0m\n\u001b[0;32m   1141\u001b[0m         \u001b[1;32mif\u001b[0m \u001b[0m_rcb\u001b[0m \u001b[1;32mis\u001b[0m \u001b[1;32mNone\u001b[0m\u001b[1;33m:\u001b[0m\u001b[1;33m\u001b[0m\u001b[1;33m\u001b[0m\u001b[0m\n\u001b[0;32m   1142\u001b[0m             \u001b[0m_rcb\u001b[0m \u001b[1;33m=\u001b[0m \u001b[0m_jit_internal\u001b[0m\u001b[1;33m.\u001b[0m\u001b[0mcreateResolutionCallbackFromClosure\u001b[0m\u001b[1;33m(\u001b[0m\u001b[0mobj\u001b[0m\u001b[1;33m)\u001b[0m\u001b[1;33m\u001b[0m\u001b[1;33m\u001b[0m\u001b[0m\n\u001b[1;32m-> 1143\u001b[1;33m         fn = torch._C._jit_script_compile(\n\u001b[0m\u001b[0;32m   1144\u001b[0m             \u001b[0mqualified_name\u001b[0m\u001b[1;33m,\u001b[0m \u001b[0mast\u001b[0m\u001b[1;33m,\u001b[0m \u001b[0m_rcb\u001b[0m\u001b[1;33m,\u001b[0m \u001b[0mget_default_args\u001b[0m\u001b[1;33m(\u001b[0m\u001b[0mobj\u001b[0m\u001b[1;33m)\u001b[0m\u001b[1;33m\u001b[0m\u001b[1;33m\u001b[0m\u001b[0m\n\u001b[0;32m   1145\u001b[0m         )\n",
      "\u001b[1;31mRuntimeError\u001b[0m: \nall inputs of range must be ints, found Tensor (inferred) in argument 0:\n  File \"<ipython-input-11-8c0445dd483c>\", line 5\n    # Type: (int) -> torch.Tensor\n    rv = torch.zeros(3, 4)\n    for i in range(len):\n             ~~~~~~~~~ <--- HERE\n        if i < 10:\n            rv -= 1.0\n"
     ]
    }
   ],
   "source": [
    "@torch.jit.script\n",
    "def foo(len):\n",
    "    # Type: (int) -> torch.Tensor\n",
    "    rv = torch.zeros(3, 4)\n",
    "    for i in range(len):\n",
    "        if i < 10:\n",
    "            rv -= 1.0\n",
    "        else:\n",
    "            rv += 1.0\n",
    "    return rv\n",
    "\n",
    "print(foo.code)"
   ]
  },
  {
   "cell_type": "markdown",
   "metadata": {},
   "source": [
    "A ```ScriptModule``` with a single ```forward``` method will have ```code``` attribute, which can be inspect ```ScriptModule```'s code. If the ScriptModule has more than one method, you will need to access ```.code``` on the method itself and not the module. We can inspect the code of a method named ```foo``` on a ```ScriptModule``` by accessing ```.foo.code```.\n",
    "\n",
    "It produces a Python Syntax Output like this:\n",
    "\n",
    "```python\n",
    "def foo(len: int) -> Tensor:\n",
    "    rv = torch.zeros([3, 4], dtype=None, layout=None, device=None, pin_memory=None)\n",
    "    rv0 = rv\n",
    "    for i in range(len):\n",
    "        if torch.lt(i, 10):\n",
    "            rv1 = torch.sub(rv0, 1., 1)\n",
    "        else:\n",
    "            rv1 = torch.add(rv0, 1., 1)\n",
    "        rv0 = rv1\n",
    "    return rv0\n",
    "```"
   ]
  },
  {
   "cell_type": "markdown",
   "metadata": {},
   "source": [
    "## Interpreting Graphs\n",
    "\n",
    "TorchScript also has a representation at a lower level than the code pprint, in form of IR graphs.\n",
    "\n",
    "TorchScript uses a static single assignment (SSA) intermediate representation IR to represent computation. The instructions in this format consist of ```ATen``` (C++ backend of PyTorch) operators and other primitive operators, including control flow operators for loops and conditionals.\n",
    "\n",
    "For Example:"
   ]
  },
  {
   "cell_type": "code",
   "execution_count": 12,
   "metadata": {},
   "outputs": [
    {
     "name": "stdout",
     "output_type": "stream",
     "text": [
      "graph(%len.1 : int):\n",
      "  %21 : int = prim::Constant[value=1]()\n",
      "  %13 : bool = prim::Constant[value=1]() # <ipython-input-12-8a34e03747f9>:5:4\n",
      "  %5 : NoneType = prim::Constant()\n",
      "  %1 : int = prim::Constant[value=3]() # <ipython-input-12-8a34e03747f9>:4:21\n",
      "  %2 : int = prim::Constant[value=4]() # <ipython-input-12-8a34e03747f9>:4:24\n",
      "  %16 : int = prim::Constant[value=10]() # <ipython-input-12-8a34e03747f9>:6:15\n",
      "  %20 : float = prim::Constant[value=1.]() # <ipython-input-12-8a34e03747f9>:7:22\n",
      "  %4 : int[] = prim::ListConstruct(%1, %2)\n",
      "  %rv.1 : Tensor = aten::zeros(%4, %5, %5, %5, %5) # <ipython-input-12-8a34e03747f9>:4:9\n",
      "  %rv : Tensor = prim::Loop(%len.1, %13, %rv.1) # <ipython-input-12-8a34e03747f9>:5:4\n",
      "    block0(%i.1 : int, %rv.27 : Tensor):\n",
      "      %17 : bool = aten::lt(%i.1, %16) # <ipython-input-12-8a34e03747f9>:6:11\n",
      "      %rv.25 : Tensor = prim::If(%17) # <ipython-input-12-8a34e03747f9>:6:8\n",
      "        block0():\n",
      "          %rv.5 : Tensor = aten::sub(%rv.27, %20, %21) # <ipython-input-12-8a34e03747f9>:7:17\n",
      "          -> (%rv.5)\n",
      "        block1():\n",
      "          %rv.11 : Tensor = aten::add(%rv.27, %20, %21) # <ipython-input-12-8a34e03747f9>:9:17\n",
      "          -> (%rv.11)\n",
      "      -> (%13, %rv.25)\n",
      "  return (%rv)\n",
      "\n"
     ]
    }
   ],
   "source": [
    "@torch.jit.script\n",
    "def foo(len):\n",
    "    # type: (int) -> torch.Tensor\n",
    "    rv = torch.zeros(3, 4)\n",
    "    for i in range(len):\n",
    "        if i < 10:\n",
    "            rv = rv - 1.0\n",
    "        else:\n",
    "            rv = rv + 1.0\n",
    "    return rv\n",
    "\n",
    "print(foo.graph)"
   ]
  },
  {
   "cell_type": "markdown",
   "metadata": {},
   "source": [
    "Take the instruction ```rv.1 : Tensor = aten::zeros(%4, %6, %10, %12) # test.py:9:10``` \n",
    "\n",
    "- ```rv.1 : Tensor``` means we assign the output to a unique value named ```rv.1```, that value is of ```Tensor``` type and that we do not know its concrete shape.\n",
    "- ```aten::zeros``` is the operator (equivalent to ```torch.zeros```) and the input list ```(%4, %6, %6, %10, %12)``` specifies which values in scope should be passed as inputs. The schema for built-in functions like ```aten::zeros``` can be found in <b>Built-in Functions</b>.\n",
    "- ```# test.py:9:10``` is the location in the original source file that generated the instruction. In this case, it is a file named <i>test.py</i>.\n",
    "\n",
    "Notice that operators can also have associated ```blocks```, namely the ```prim::Loop``` and ```prim::If``` operators. In the graph print-out, these operators are formatted to reflect their equivalent source code forms to facilitate easy debugging.\n",
    "\n",
    "Graphs can be inspected as shown to confirm that the computation described by a ```ScriptModule``` is correct, in both automated and manual fashion.\n",
    "\n",
    "## Tracer\n",
    "\n",
    "### Tracing Edge Cases\n",
    "\n",
    "There are some edge cases that exist where the trace of a given Python Function will not be representative of the underlying code. These can include:\n",
    "\n",
    "- Tracing of control flow that is dependent on inputs like ```Tensor``` shapes.\n",
    "- Tracing of in-place operations of tensor views like indexing on the left-side of an assignment\n",
    "\n",
    "### Automatic Trace Checking\n",
    "\n",
    "One way to automatically catch many errors in traces is by using ```check_inputs``` on the ```torch.jit.trace()``` API.\n",
    "```check_inputs``` takes a tuple of inputs that will be used to re-trace the computation and verify the results."
   ]
  },
  {
   "cell_type": "code",
   "execution_count": 13,
   "metadata": {},
   "outputs": [
    {
     "name": "stderr",
     "output_type": "stream",
     "text": [
      "C:\\ProgramData\\Anaconda3\\envs\\ML\\lib\\site-packages\\torch\\jit\\_trace.py:793: TracerWarning: Output nr 1. of the traced function does not match the corresponding output of the Python function. Detailed error:\n",
      "With rtol=1e-05 and atol=1e-05, found 30 element(s) (out of 30) whose difference(s) exceeded the margin of error (including 0 nan comparisons). The greatest difference was 0.30838286876678467 (0.5647702813148499 vs. 0.2563874125480652), which occurred at index (3, 5).\n",
      "  _check_trace(\n"
     ]
    },
    {
     "ename": "TracingCheckError",
     "evalue": "Tracing failed sanity checks!\nERROR: Graphs differed across invocations!\n\tGraph diff:\n\t\t  graph(%x : Tensor):\n\t\t    %1 : int = prim::Constant[value=0]() # <ipython-input-13-6f70278e62a6>:2:0\n\t\t    %2 : int = prim::Constant[value=0]() # <ipython-input-13-6f70278e62a6>:2:0\n\t\t    %result.1 : Tensor = aten::select(%x, %1, %2) # <ipython-input-13-6f70278e62a6>:2:0\n\t\t    %4 : int = prim::Constant[value=0]() # <ipython-input-13-6f70278e62a6>:4:0\n\t\t    %5 : int = prim::Constant[value=0]() # <ipython-input-13-6f70278e62a6>:4:0\n\t\t    %6 : Tensor = aten::select(%x, %4, %5) # <ipython-input-13-6f70278e62a6>:4:0\n\t\t    %result.3 : Tensor = aten::mul_(%result.1, %6) # <ipython-input-13-6f70278e62a6>:4:0\n\t\t    %8 : int = prim::Constant[value=0]() # <ipython-input-13-6f70278e62a6>:4:0\n\t\t    %9 : int = prim::Constant[value=1]() # <ipython-input-13-6f70278e62a6>:4:0\n\t\t    %10 : Tensor = aten::select(%x, %8, %9) # <ipython-input-13-6f70278e62a6>:4:0\n\t\t-   %result : Tensor = aten::mul_(%result.3, %10) # <ipython-input-13-6f70278e62a6>:4:0\n\t\t+   %result.5 : Tensor = aten::mul_(%result.3, %10) # <ipython-input-13-6f70278e62a6>:4:0\n\t\t?          ++\n\t\t    %12 : int = prim::Constant[value=0]() # <ipython-input-13-6f70278e62a6>:4:0\n\t\t    %13 : int = prim::Constant[value=2]() # <ipython-input-13-6f70278e62a6>:4:0\n\t\t    %14 : Tensor = aten::select(%x, %12, %13) # <ipython-input-13-6f70278e62a6>:4:0\n\t\t+   %result : Tensor = aten::mul_(%result.5, %14) # <ipython-input-13-6f70278e62a6>:4:0\n\t\t+   %16 : int = prim::Constant[value=0]() # <ipython-input-13-6f70278e62a6>:4:0\n\t\t+   %17 : int = prim::Constant[value=3]() # <ipython-input-13-6f70278e62a6>:4:0\n\t\t+   %18 : Tensor = aten::select(%x, %16, %17) # <ipython-input-13-6f70278e62a6>:4:0\n\t\t-   %15 : Tensor = aten::mul_(%result, %14) # <ipython-input-13-6f70278e62a6>:4:0\n\t\t?     ^                                  ^\n\t\t+   %19 : Tensor = aten::mul_(%result, %18) # <ipython-input-13-6f70278e62a6>:4:0\n\t\t?     ^                                  ^\n\t\t-   return (%15)\n\t\t?             ^\n\t\t+   return (%19)\n\t\t?             ^\n\tFirst diverging operator:\n\tNode diff:\n\t\t- %result : Tensor = aten::mul_(%result.3, %10) # <ipython-input-13-6f70278e62a6>:4:0\n\t\t+ %result.5 : Tensor = aten::mul_(%result.3, %10) # <ipython-input-13-6f70278e62a6>:4:0\n\t\t?        ++\n\tTrace source location:\n\t\t<ipython-input-13-6f70278e62a6>(4): loop_in_traced_fn\n\t\tC:\\ProgramData\\Anaconda3\\envs\\ML\\lib\\site-packages\\torch\\jit\\_trace.py(780): trace\n\t\t<ipython-input-13-6f70278e62a6>(10): <module>\n\t\tC:\\ProgramData\\Anaconda3\\envs\\ML\\lib\\site-packages\\IPython\\core\\interactiveshell.py(3418): run_code\n\t\tC:\\ProgramData\\Anaconda3\\envs\\ML\\lib\\site-packages\\IPython\\core\\interactiveshell.py(3338): run_ast_nodes\n\t\tC:\\ProgramData\\Anaconda3\\envs\\ML\\lib\\site-packages\\IPython\\core\\interactiveshell.py(3146): run_cell_async\n\t\tC:\\ProgramData\\Anaconda3\\envs\\ML\\lib\\site-packages\\IPython\\core\\async_helpers.py(68): _pseudo_sync_runner\n\t\tC:\\ProgramData\\Anaconda3\\envs\\ML\\lib\\site-packages\\IPython\\core\\interactiveshell.py(2923): _run_cell\n\t\tC:\\ProgramData\\Anaconda3\\envs\\ML\\lib\\site-packages\\IPython\\core\\interactiveshell.py(2877): run_cell\n\t\tC:\\ProgramData\\Anaconda3\\envs\\ML\\lib\\site-packages\\ipykernel\\zmqshell.py(536): run_cell\n\t\tC:\\ProgramData\\Anaconda3\\envs\\ML\\lib\\site-packages\\ipykernel\\ipkernel.py(306): do_execute\n\t\tC:\\ProgramData\\Anaconda3\\envs\\ML\\lib\\site-packages\\tornado\\gen.py(234): wrapper\n\t\tC:\\ProgramData\\Anaconda3\\envs\\ML\\lib\\site-packages\\ipykernel\\kernelbase.py(543): execute_request\n\t\tC:\\ProgramData\\Anaconda3\\envs\\ML\\lib\\site-packages\\tornado\\gen.py(234): wrapper\n\t\tC:\\ProgramData\\Anaconda3\\envs\\ML\\lib\\site-packages\\ipykernel\\kernelbase.py(268): dispatch_shell\n\t\tC:\\ProgramData\\Anaconda3\\envs\\ML\\lib\\site-packages\\tornado\\gen.py(234): wrapper\n\t\tC:\\ProgramData\\Anaconda3\\envs\\ML\\lib\\site-packages\\ipykernel\\kernelbase.py(365): process_one\n\t\tC:\\ProgramData\\Anaconda3\\envs\\ML\\lib\\site-packages\\tornado\\gen.py(775): run\n\t\tC:\\ProgramData\\Anaconda3\\envs\\ML\\lib\\site-packages\\tornado\\gen.py(814): inner\n\t\tC:\\ProgramData\\Anaconda3\\envs\\ML\\lib\\site-packages\\tornado\\ioloop.py(741): _run_callback\n\t\tC:\\ProgramData\\Anaconda3\\envs\\ML\\lib\\site-packages\\tornado\\ioloop.py(688): <lambda>\n\t\tC:\\ProgramData\\Anaconda3\\envs\\ML\\lib\\asyncio\\events.py(81): _run\n\t\tC:\\ProgramData\\Anaconda3\\envs\\ML\\lib\\asyncio\\base_events.py(1859): _run_once\n\t\tC:\\ProgramData\\Anaconda3\\envs\\ML\\lib\\asyncio\\base_events.py(570): run_forever\n\t\tC:\\ProgramData\\Anaconda3\\envs\\ML\\lib\\site-packages\\tornado\\platform\\asyncio.py(199): start\n\t\tC:\\ProgramData\\Anaconda3\\envs\\ML\\lib\\site-packages\\ipykernel\\kernelapp.py(612): start\n\t\tC:\\ProgramData\\Anaconda3\\envs\\ML\\lib\\site-packages\\traitlets\\config\\application.py(845): launch_instance\n\t\tC:\\ProgramData\\Anaconda3\\envs\\ML\\lib\\site-packages\\ipykernel_launcher.py(16): <module>\n\t\tC:\\ProgramData\\Anaconda3\\envs\\ML\\lib\\runpy.py(87): _run_code\n\t\tC:\\ProgramData\\Anaconda3\\envs\\ML\\lib\\runpy.py(194): _run_module_as_main\n\tCheck source location:\n\t\t<ipython-input-13-6f70278e62a6>(4): loop_in_traced_fn\n\t\tC:\\ProgramData\\Anaconda3\\envs\\ML\\lib\\site-packages\\torch\\jit\\_trace.py(780): trace\n\t\tC:\\ProgramData\\Anaconda3\\envs\\ML\\lib\\site-packages\\torch\\jit\\_trace.py(344): _check_trace\n\t\tC:\\ProgramData\\Anaconda3\\envs\\ML\\lib\\site-packages\\torch\\autograd\\grad_mode.py(28): decorate_context\n\t\tC:\\ProgramData\\Anaconda3\\envs\\ML\\lib\\site-packages\\torch\\jit\\_trace.py(793): trace\n\t\t<ipython-input-13-6f70278e62a6>(10): <module>\n\t\tC:\\ProgramData\\Anaconda3\\envs\\ML\\lib\\site-packages\\IPython\\core\\interactiveshell.py(3418): run_code\n\t\tC:\\ProgramData\\Anaconda3\\envs\\ML\\lib\\site-packages\\IPython\\core\\interactiveshell.py(3338): run_ast_nodes\n\t\tC:\\ProgramData\\Anaconda3\\envs\\ML\\lib\\site-packages\\IPython\\core\\interactiveshell.py(3146): run_cell_async\n\t\tC:\\ProgramData\\Anaconda3\\envs\\ML\\lib\\site-packages\\IPython\\core\\async_helpers.py(68): _pseudo_sync_runner\n\t\tC:\\ProgramData\\Anaconda3\\envs\\ML\\lib\\site-packages\\IPython\\core\\interactiveshell.py(2923): _run_cell\n\t\tC:\\ProgramData\\Anaconda3\\envs\\ML\\lib\\site-packages\\IPython\\core\\interactiveshell.py(2877): run_cell\n\t\tC:\\ProgramData\\Anaconda3\\envs\\ML\\lib\\site-packages\\ipykernel\\zmqshell.py(536): run_cell\n\t\tC:\\ProgramData\\Anaconda3\\envs\\ML\\lib\\site-packages\\ipykernel\\ipkernel.py(306): do_execute\n\t\tC:\\ProgramData\\Anaconda3\\envs\\ML\\lib\\site-packages\\tornado\\gen.py(234): wrapper\n\t\tC:\\ProgramData\\Anaconda3\\envs\\ML\\lib\\site-packages\\ipykernel\\kernelbase.py(543): execute_request\n\t\tC:\\ProgramData\\Anaconda3\\envs\\ML\\lib\\site-packages\\tornado\\gen.py(234): wrapper\n\t\tC:\\ProgramData\\Anaconda3\\envs\\ML\\lib\\site-packages\\ipykernel\\kernelbase.py(268): dispatch_shell\n\t\tC:\\ProgramData\\Anaconda3\\envs\\ML\\lib\\site-packages\\tornado\\gen.py(234): wrapper\n\t\tC:\\ProgramData\\Anaconda3\\envs\\ML\\lib\\site-packages\\ipykernel\\kernelbase.py(365): process_one\n\t\tC:\\ProgramData\\Anaconda3\\envs\\ML\\lib\\site-packages\\tornado\\gen.py(775): run\n\t\tC:\\ProgramData\\Anaconda3\\envs\\ML\\lib\\site-packages\\tornado\\gen.py(814): inner\n\t\tC:\\ProgramData\\Anaconda3\\envs\\ML\\lib\\site-packages\\tornado\\ioloop.py(741): _run_callback\n\t\tC:\\ProgramData\\Anaconda3\\envs\\ML\\lib\\site-packages\\tornado\\ioloop.py(688): <lambda>\n\t\tC:\\ProgramData\\Anaconda3\\envs\\ML\\lib\\asyncio\\events.py(81): _run\n\t\tC:\\ProgramData\\Anaconda3\\envs\\ML\\lib\\asyncio\\base_events.py(1859): _run_once\n\t\tC:\\ProgramData\\Anaconda3\\envs\\ML\\lib\\asyncio\\base_events.py(570): run_forever\n\t\tC:\\ProgramData\\Anaconda3\\envs\\ML\\lib\\site-packages\\tornado\\platform\\asyncio.py(199): start\n\t\tC:\\ProgramData\\Anaconda3\\envs\\ML\\lib\\site-packages\\ipykernel\\kernelapp.py(612): start\n\t\tC:\\ProgramData\\Anaconda3\\envs\\ML\\lib\\site-packages\\traitlets\\config\\application.py(845): launch_instance\n\t\tC:\\ProgramData\\Anaconda3\\envs\\ML\\lib\\site-packages\\ipykernel_launcher.py(16): <module>\n\t\tC:\\ProgramData\\Anaconda3\\envs\\ML\\lib\\runpy.py(87): _run_code\n\t\tC:\\ProgramData\\Anaconda3\\envs\\ML\\lib\\runpy.py(194): _run_module_as_main\n",
     "output_type": "error",
     "traceback": [
      "\u001b[1;31m---------------------------------------------------------------------------\u001b[0m",
      "\u001b[1;31mTracingCheckError\u001b[0m                         Traceback (most recent call last)",
      "\u001b[1;32m<ipython-input-13-6f70278e62a6>\u001b[0m in \u001b[0;36m<module>\u001b[1;34m\u001b[0m\n\u001b[0;32m      8\u001b[0m \u001b[0mcheck_inputs\u001b[0m \u001b[1;33m=\u001b[0m \u001b[1;33m[\u001b[0m\u001b[1;33m(\u001b[0m\u001b[0mtorch\u001b[0m\u001b[1;33m.\u001b[0m\u001b[0mrand\u001b[0m\u001b[1;33m(\u001b[0m\u001b[1;36m4\u001b[0m\u001b[1;33m,\u001b[0m \u001b[1;36m5\u001b[0m\u001b[1;33m,\u001b[0m \u001b[1;36m6\u001b[0m\u001b[1;33m)\u001b[0m\u001b[1;33m,\u001b[0m \u001b[1;33m)\u001b[0m\u001b[1;33m,\u001b[0m \u001b[1;33m(\u001b[0m\u001b[0mtorch\u001b[0m\u001b[1;33m.\u001b[0m\u001b[0mrand\u001b[0m\u001b[1;33m(\u001b[0m\u001b[1;36m2\u001b[0m\u001b[1;33m,\u001b[0m \u001b[1;36m3\u001b[0m\u001b[1;33m,\u001b[0m \u001b[1;36m4\u001b[0m\u001b[1;33m)\u001b[0m\u001b[1;33m)\u001b[0m\u001b[1;33m]\u001b[0m\u001b[1;33m\u001b[0m\u001b[1;33m\u001b[0m\u001b[0m\n\u001b[0;32m      9\u001b[0m \u001b[1;33m\u001b[0m\u001b[0m\n\u001b[1;32m---> 10\u001b[1;33m \u001b[0mtraced\u001b[0m \u001b[1;33m=\u001b[0m \u001b[0mtorch\u001b[0m\u001b[1;33m.\u001b[0m\u001b[0mjit\u001b[0m\u001b[1;33m.\u001b[0m\u001b[0mtrace\u001b[0m\u001b[1;33m(\u001b[0m\u001b[0mloop_in_traced_fn\u001b[0m\u001b[1;33m,\u001b[0m \u001b[0minputs\u001b[0m\u001b[1;33m,\u001b[0m \u001b[0mcheck_inputs\u001b[0m\u001b[1;33m=\u001b[0m\u001b[0mcheck_inputs\u001b[0m\u001b[1;33m)\u001b[0m\u001b[1;33m\u001b[0m\u001b[1;33m\u001b[0m\u001b[0m\n\u001b[0m",
      "\u001b[1;32mC:\\ProgramData\\Anaconda3\\envs\\ML\\lib\\site-packages\\torch\\jit\\_trace.py\u001b[0m in \u001b[0;36mtrace\u001b[1;34m(func, example_inputs, optimize, check_trace, check_inputs, check_tolerance, strict, _force_outplace, _module_class, _compilation_unit)\u001b[0m\n\u001b[0;32m    791\u001b[0m     \u001b[1;32mif\u001b[0m \u001b[0mcheck_trace\u001b[0m\u001b[1;33m:\u001b[0m\u001b[1;33m\u001b[0m\u001b[1;33m\u001b[0m\u001b[0m\n\u001b[0;32m    792\u001b[0m         \u001b[1;32mif\u001b[0m \u001b[0mcheck_inputs\u001b[0m \u001b[1;32mis\u001b[0m \u001b[1;32mnot\u001b[0m \u001b[1;32mNone\u001b[0m\u001b[1;33m:\u001b[0m\u001b[1;33m\u001b[0m\u001b[1;33m\u001b[0m\u001b[0m\n\u001b[1;32m--> 793\u001b[1;33m             _check_trace(\n\u001b[0m\u001b[0;32m    794\u001b[0m                 \u001b[0mcheck_inputs\u001b[0m\u001b[1;33m,\u001b[0m\u001b[1;33m\u001b[0m\u001b[1;33m\u001b[0m\u001b[0m\n\u001b[0;32m    795\u001b[0m                 \u001b[0mfunc\u001b[0m\u001b[1;33m,\u001b[0m\u001b[1;33m\u001b[0m\u001b[1;33m\u001b[0m\u001b[0m\n",
      "\u001b[1;32mC:\\ProgramData\\Anaconda3\\envs\\ML\\lib\\site-packages\\torch\\autograd\\grad_mode.py\u001b[0m in \u001b[0;36mdecorate_context\u001b[1;34m(*args, **kwargs)\u001b[0m\n\u001b[0;32m     26\u001b[0m         \u001b[1;32mdef\u001b[0m \u001b[0mdecorate_context\u001b[0m\u001b[1;33m(\u001b[0m\u001b[1;33m*\u001b[0m\u001b[0margs\u001b[0m\u001b[1;33m,\u001b[0m \u001b[1;33m**\u001b[0m\u001b[0mkwargs\u001b[0m\u001b[1;33m)\u001b[0m\u001b[1;33m:\u001b[0m\u001b[1;33m\u001b[0m\u001b[1;33m\u001b[0m\u001b[0m\n\u001b[0;32m     27\u001b[0m             \u001b[1;32mwith\u001b[0m \u001b[0mself\u001b[0m\u001b[1;33m.\u001b[0m\u001b[0m__class__\u001b[0m\u001b[1;33m(\u001b[0m\u001b[1;33m)\u001b[0m\u001b[1;33m:\u001b[0m\u001b[1;33m\u001b[0m\u001b[1;33m\u001b[0m\u001b[0m\n\u001b[1;32m---> 28\u001b[1;33m                 \u001b[1;32mreturn\u001b[0m \u001b[0mfunc\u001b[0m\u001b[1;33m(\u001b[0m\u001b[1;33m*\u001b[0m\u001b[0margs\u001b[0m\u001b[1;33m,\u001b[0m \u001b[1;33m**\u001b[0m\u001b[0mkwargs\u001b[0m\u001b[1;33m)\u001b[0m\u001b[1;33m\u001b[0m\u001b[1;33m\u001b[0m\u001b[0m\n\u001b[0m\u001b[0;32m     29\u001b[0m         \u001b[1;32mreturn\u001b[0m \u001b[0mcast\u001b[0m\u001b[1;33m(\u001b[0m\u001b[0mF\u001b[0m\u001b[1;33m,\u001b[0m \u001b[0mdecorate_context\u001b[0m\u001b[1;33m)\u001b[0m\u001b[1;33m\u001b[0m\u001b[1;33m\u001b[0m\u001b[0m\n\u001b[0;32m     30\u001b[0m \u001b[1;33m\u001b[0m\u001b[0m\n",
      "\u001b[1;32mC:\\ProgramData\\Anaconda3\\envs\\ML\\lib\\site-packages\\torch\\jit\\_trace.py\u001b[0m in \u001b[0;36m_check_trace\u001b[1;34m(check_inputs, func, traced_func, check_tolerance, strict, force_outplace, is_trace_module, _module_class)\u001b[0m\n\u001b[0;32m    519\u001b[0m         \u001b[0mdiag_info\u001b[0m \u001b[1;33m=\u001b[0m \u001b[0mgraph_diagnostic_info\u001b[0m\u001b[1;33m(\u001b[0m\u001b[1;33m)\u001b[0m\u001b[1;33m\u001b[0m\u001b[1;33m\u001b[0m\u001b[0m\n\u001b[0;32m    520\u001b[0m         \u001b[1;32mif\u001b[0m \u001b[0many\u001b[0m\u001b[1;33m(\u001b[0m\u001b[0minfo\u001b[0m \u001b[1;32mis\u001b[0m \u001b[1;32mnot\u001b[0m \u001b[1;32mNone\u001b[0m \u001b[1;32mfor\u001b[0m \u001b[0minfo\u001b[0m \u001b[1;32min\u001b[0m \u001b[0mdiag_info\u001b[0m\u001b[1;33m)\u001b[0m\u001b[1;33m:\u001b[0m\u001b[1;33m\u001b[0m\u001b[1;33m\u001b[0m\u001b[0m\n\u001b[1;32m--> 521\u001b[1;33m             \u001b[1;32mraise\u001b[0m \u001b[0mTracingCheckError\u001b[0m\u001b[1;33m(\u001b[0m\u001b[1;33m*\u001b[0m\u001b[0mdiag_info\u001b[0m\u001b[1;33m)\u001b[0m\u001b[1;33m\u001b[0m\u001b[1;33m\u001b[0m\u001b[0m\n\u001b[0m\u001b[0;32m    522\u001b[0m \u001b[1;33m\u001b[0m\u001b[0m\n\u001b[0;32m    523\u001b[0m \u001b[1;33m\u001b[0m\u001b[0m\n",
      "\u001b[1;31mTracingCheckError\u001b[0m: Tracing failed sanity checks!\nERROR: Graphs differed across invocations!\n\tGraph diff:\n\t\t  graph(%x : Tensor):\n\t\t    %1 : int = prim::Constant[value=0]() # <ipython-input-13-6f70278e62a6>:2:0\n\t\t    %2 : int = prim::Constant[value=0]() # <ipython-input-13-6f70278e62a6>:2:0\n\t\t    %result.1 : Tensor = aten::select(%x, %1, %2) # <ipython-input-13-6f70278e62a6>:2:0\n\t\t    %4 : int = prim::Constant[value=0]() # <ipython-input-13-6f70278e62a6>:4:0\n\t\t    %5 : int = prim::Constant[value=0]() # <ipython-input-13-6f70278e62a6>:4:0\n\t\t    %6 : Tensor = aten::select(%x, %4, %5) # <ipython-input-13-6f70278e62a6>:4:0\n\t\t    %result.3 : Tensor = aten::mul_(%result.1, %6) # <ipython-input-13-6f70278e62a6>:4:0\n\t\t    %8 : int = prim::Constant[value=0]() # <ipython-input-13-6f70278e62a6>:4:0\n\t\t    %9 : int = prim::Constant[value=1]() # <ipython-input-13-6f70278e62a6>:4:0\n\t\t    %10 : Tensor = aten::select(%x, %8, %9) # <ipython-input-13-6f70278e62a6>:4:0\n\t\t-   %result : Tensor = aten::mul_(%result.3, %10) # <ipython-input-13-6f70278e62a6>:4:0\n\t\t+   %result.5 : Tensor = aten::mul_(%result.3, %10) # <ipython-input-13-6f70278e62a6>:4:0\n\t\t?          ++\n\t\t    %12 : int = prim::Constant[value=0]() # <ipython-input-13-6f70278e62a6>:4:0\n\t\t    %13 : int = prim::Constant[value=2]() # <ipython-input-13-6f70278e62a6>:4:0\n\t\t    %14 : Tensor = aten::select(%x, %12, %13) # <ipython-input-13-6f70278e62a6>:4:0\n\t\t+   %result : Tensor = aten::mul_(%result.5, %14) # <ipython-input-13-6f70278e62a6>:4:0\n\t\t+   %16 : int = prim::Constant[value=0]() # <ipython-input-13-6f70278e62a6>:4:0\n\t\t+   %17 : int = prim::Constant[value=3]() # <ipython-input-13-6f70278e62a6>:4:0\n\t\t+   %18 : Tensor = aten::select(%x, %16, %17) # <ipython-input-13-6f70278e62a6>:4:0\n\t\t-   %15 : Tensor = aten::mul_(%result, %14) # <ipython-input-13-6f70278e62a6>:4:0\n\t\t?     ^                                  ^\n\t\t+   %19 : Tensor = aten::mul_(%result, %18) # <ipython-input-13-6f70278e62a6>:4:0\n\t\t?     ^                                  ^\n\t\t-   return (%15)\n\t\t?             ^\n\t\t+   return (%19)\n\t\t?             ^\n\tFirst diverging operator:\n\tNode diff:\n\t\t- %result : Tensor = aten::mul_(%result.3, %10) # <ipython-input-13-6f70278e62a6>:4:0\n\t\t+ %result.5 : Tensor = aten::mul_(%result.3, %10) # <ipython-input-13-6f70278e62a6>:4:0\n\t\t?        ++\n\tTrace source location:\n\t\t<ipython-input-13-6f70278e62a6>(4): loop_in_traced_fn\n\t\tC:\\ProgramData\\Anaconda3\\envs\\ML\\lib\\site-packages\\torch\\jit\\_trace.py(780): trace\n\t\t<ipython-input-13-6f70278e62a6>(10): <module>\n\t\tC:\\ProgramData\\Anaconda3\\envs\\ML\\lib\\site-packages\\IPython\\core\\interactiveshell.py(3418): run_code\n\t\tC:\\ProgramData\\Anaconda3\\envs\\ML\\lib\\site-packages\\IPython\\core\\interactiveshell.py(3338): run_ast_nodes\n\t\tC:\\ProgramData\\Anaconda3\\envs\\ML\\lib\\site-packages\\IPython\\core\\interactiveshell.py(3146): run_cell_async\n\t\tC:\\ProgramData\\Anaconda3\\envs\\ML\\lib\\site-packages\\IPython\\core\\async_helpers.py(68): _pseudo_sync_runner\n\t\tC:\\ProgramData\\Anaconda3\\envs\\ML\\lib\\site-packages\\IPython\\core\\interactiveshell.py(2923): _run_cell\n\t\tC:\\ProgramData\\Anaconda3\\envs\\ML\\lib\\site-packages\\IPython\\core\\interactiveshell.py(2877): run_cell\n\t\tC:\\ProgramData\\Anaconda3\\envs\\ML\\lib\\site-packages\\ipykernel\\zmqshell.py(536): run_cell\n\t\tC:\\ProgramData\\Anaconda3\\envs\\ML\\lib\\site-packages\\ipykernel\\ipkernel.py(306): do_execute\n\t\tC:\\ProgramData\\Anaconda3\\envs\\ML\\lib\\site-packages\\tornado\\gen.py(234): wrapper\n\t\tC:\\ProgramData\\Anaconda3\\envs\\ML\\lib\\site-packages\\ipykernel\\kernelbase.py(543): execute_request\n\t\tC:\\ProgramData\\Anaconda3\\envs\\ML\\lib\\site-packages\\tornado\\gen.py(234): wrapper\n\t\tC:\\ProgramData\\Anaconda3\\envs\\ML\\lib\\site-packages\\ipykernel\\kernelbase.py(268): dispatch_shell\n\t\tC:\\ProgramData\\Anaconda3\\envs\\ML\\lib\\site-packages\\tornado\\gen.py(234): wrapper\n\t\tC:\\ProgramData\\Anaconda3\\envs\\ML\\lib\\site-packages\\ipykernel\\kernelbase.py(365): process_one\n\t\tC:\\ProgramData\\Anaconda3\\envs\\ML\\lib\\site-packages\\tornado\\gen.py(775): run\n\t\tC:\\ProgramData\\Anaconda3\\envs\\ML\\lib\\site-packages\\tornado\\gen.py(814): inner\n\t\tC:\\ProgramData\\Anaconda3\\envs\\ML\\lib\\site-packages\\tornado\\ioloop.py(741): _run_callback\n\t\tC:\\ProgramData\\Anaconda3\\envs\\ML\\lib\\site-packages\\tornado\\ioloop.py(688): <lambda>\n\t\tC:\\ProgramData\\Anaconda3\\envs\\ML\\lib\\asyncio\\events.py(81): _run\n\t\tC:\\ProgramData\\Anaconda3\\envs\\ML\\lib\\asyncio\\base_events.py(1859): _run_once\n\t\tC:\\ProgramData\\Anaconda3\\envs\\ML\\lib\\asyncio\\base_events.py(570): run_forever\n\t\tC:\\ProgramData\\Anaconda3\\envs\\ML\\lib\\site-packages\\tornado\\platform\\asyncio.py(199): start\n\t\tC:\\ProgramData\\Anaconda3\\envs\\ML\\lib\\site-packages\\ipykernel\\kernelapp.py(612): start\n\t\tC:\\ProgramData\\Anaconda3\\envs\\ML\\lib\\site-packages\\traitlets\\config\\application.py(845): launch_instance\n\t\tC:\\ProgramData\\Anaconda3\\envs\\ML\\lib\\site-packages\\ipykernel_launcher.py(16): <module>\n\t\tC:\\ProgramData\\Anaconda3\\envs\\ML\\lib\\runpy.py(87): _run_code\n\t\tC:\\ProgramData\\Anaconda3\\envs\\ML\\lib\\runpy.py(194): _run_module_as_main\n\tCheck source location:\n\t\t<ipython-input-13-6f70278e62a6>(4): loop_in_traced_fn\n\t\tC:\\ProgramData\\Anaconda3\\envs\\ML\\lib\\site-packages\\torch\\jit\\_trace.py(780): trace\n\t\tC:\\ProgramData\\Anaconda3\\envs\\ML\\lib\\site-packages\\torch\\jit\\_trace.py(344): _check_trace\n\t\tC:\\ProgramData\\Anaconda3\\envs\\ML\\lib\\site-packages\\torch\\autograd\\grad_mode.py(28): decorate_context\n\t\tC:\\ProgramData\\Anaconda3\\envs\\ML\\lib\\site-packages\\torch\\jit\\_trace.py(793): trace\n\t\t<ipython-input-13-6f70278e62a6>(10): <module>\n\t\tC:\\ProgramData\\Anaconda3\\envs\\ML\\lib\\site-packages\\IPython\\core\\interactiveshell.py(3418): run_code\n\t\tC:\\ProgramData\\Anaconda3\\envs\\ML\\lib\\site-packages\\IPython\\core\\interactiveshell.py(3338): run_ast_nodes\n\t\tC:\\ProgramData\\Anaconda3\\envs\\ML\\lib\\site-packages\\IPython\\core\\interactiveshell.py(3146): run_cell_async\n\t\tC:\\ProgramData\\Anaconda3\\envs\\ML\\lib\\site-packages\\IPython\\core\\async_helpers.py(68): _pseudo_sync_runner\n\t\tC:\\ProgramData\\Anaconda3\\envs\\ML\\lib\\site-packages\\IPython\\core\\interactiveshell.py(2923): _run_cell\n\t\tC:\\ProgramData\\Anaconda3\\envs\\ML\\lib\\site-packages\\IPython\\core\\interactiveshell.py(2877): run_cell\n\t\tC:\\ProgramData\\Anaconda3\\envs\\ML\\lib\\site-packages\\ipykernel\\zmqshell.py(536): run_cell\n\t\tC:\\ProgramData\\Anaconda3\\envs\\ML\\lib\\site-packages\\ipykernel\\ipkernel.py(306): do_execute\n\t\tC:\\ProgramData\\Anaconda3\\envs\\ML\\lib\\site-packages\\tornado\\gen.py(234): wrapper\n\t\tC:\\ProgramData\\Anaconda3\\envs\\ML\\lib\\site-packages\\ipykernel\\kernelbase.py(543): execute_request\n\t\tC:\\ProgramData\\Anaconda3\\envs\\ML\\lib\\site-packages\\tornado\\gen.py(234): wrapper\n\t\tC:\\ProgramData\\Anaconda3\\envs\\ML\\lib\\site-packages\\ipykernel\\kernelbase.py(268): dispatch_shell\n\t\tC:\\ProgramData\\Anaconda3\\envs\\ML\\lib\\site-packages\\tornado\\gen.py(234): wrapper\n\t\tC:\\ProgramData\\Anaconda3\\envs\\ML\\lib\\site-packages\\ipykernel\\kernelbase.py(365): process_one\n\t\tC:\\ProgramData\\Anaconda3\\envs\\ML\\lib\\site-packages\\tornado\\gen.py(775): run\n\t\tC:\\ProgramData\\Anaconda3\\envs\\ML\\lib\\site-packages\\tornado\\gen.py(814): inner\n\t\tC:\\ProgramData\\Anaconda3\\envs\\ML\\lib\\site-packages\\tornado\\ioloop.py(741): _run_callback\n\t\tC:\\ProgramData\\Anaconda3\\envs\\ML\\lib\\site-packages\\tornado\\ioloop.py(688): <lambda>\n\t\tC:\\ProgramData\\Anaconda3\\envs\\ML\\lib\\asyncio\\events.py(81): _run\n\t\tC:\\ProgramData\\Anaconda3\\envs\\ML\\lib\\asyncio\\base_events.py(1859): _run_once\n\t\tC:\\ProgramData\\Anaconda3\\envs\\ML\\lib\\asyncio\\base_events.py(570): run_forever\n\t\tC:\\ProgramData\\Anaconda3\\envs\\ML\\lib\\site-packages\\tornado\\platform\\asyncio.py(199): start\n\t\tC:\\ProgramData\\Anaconda3\\envs\\ML\\lib\\site-packages\\ipykernel\\kernelapp.py(612): start\n\t\tC:\\ProgramData\\Anaconda3\\envs\\ML\\lib\\site-packages\\traitlets\\config\\application.py(845): launch_instance\n\t\tC:\\ProgramData\\Anaconda3\\envs\\ML\\lib\\site-packages\\ipykernel_launcher.py(16): <module>\n\t\tC:\\ProgramData\\Anaconda3\\envs\\ML\\lib\\runpy.py(87): _run_code\n\t\tC:\\ProgramData\\Anaconda3\\envs\\ML\\lib\\runpy.py(194): _run_module_as_main\n"
     ]
    }
   ],
   "source": [
    "def loop_in_traced_fn(x):\n",
    "    result = x[0]\n",
    "    for i in range(x.size(0)):\n",
    "        result *= x[i]\n",
    "    return result\n",
    "\n",
    "inputs = (torch.rand(3, 4, 5))\n",
    "check_inputs = [(torch.rand(4, 5, 6), ), (torch.rand(2, 3, 4))]\n",
    "\n",
    "traced = torch.jit.trace(loop_in_traced_fn, inputs, check_inputs=check_inputs)"
   ]
  },
  {
   "cell_type": "markdown",
   "metadata": {},
   "source": [
    "As we can see, this given an error\n",
    "\n",
    "```python\n",
    "TracingCheckError: Tracing failed sanity checks!\n",
    "ERROR: Graphs differed across invocations!\n",
    "\tGraph diff:\n",
    "\t\t  graph(%x : Tensor):\n",
    "\t\t    %1 : int = prim::Constant[value=0]() # <ipython-input-13-6f70278e62a6>:2:0\n",
    "\t\t    %2 : int = prim::Constant[value=0]() # <ipython-input-13-6f70278e62a6>:2:0\n",
    "\t\t    %result.1 : Tensor = aten::select(%x, %1, %2) # <ipython-input-13-6f70278e62a6>:2:0\n",
    "\t\t    %4 : int = prim::Constant[value=0]() # <ipython-input-13-6f70278e62a6>:4:0\n",
    "\t\t    %5 : int = prim::Constant[value=0]() # <ipython-input-13-6f70278e62a6>:4:0\n",
    "\t\t    %6 : Tensor = aten::select(%x, %4, %5) # <ipython-input-13-6f70278e62a6>:4:0\n",
    "\t\t    %result.3 : Tensor = aten::mul_(%result.1, %6) # <ipython-input-13-6f70278e62a6>:4:0\n",
    "\t\t    %8 : int = prim::Constant[value=0]() # <ipython-input-13-6f70278e62a6>:4:0\n",
    "\t\t    %9 : int = prim::Constant[value=1]() # <ipython-input-13-6f70278e62a6>:4:0\n",
    "\t\t    %10 : Tensor = aten::select(%x, %8, %9) # <ipython-input-13-6f70278e62a6>:4:0\n",
    "\t\t-   %result : Tensor = aten::mul_(%result.3, %10) # <ipython-input-13-6f70278e62a6>:4:0\n",
    "\t\t+   %result.5 : Tensor = aten::mul_(%result.3, %10) # <ipython-input-13-6f70278e62a6>:4:0\n",
    "\t\t?          ++\n",
    "\t\t    %12 : int = prim::Constant[value=0]() # <ipython-input-13-6f70278e62a6>:4:0\n",
    "\t\t    %13 : int = prim::Constant[value=2]() # <ipython-input-13-6f70278e62a6>:4:0\n",
    "\t\t    %14 : Tensor = aten::select(%x, %12, %13) # <ipython-input-13-6f70278e62a6>:4:0\n",
    "\t\t+   %result : Tensor = aten::mul_(%result.5, %14) # <ipython-input-13-6f70278e62a6>:4:0\n",
    "\t\t+   %16 : int = prim::Constant[value=0]() # <ipython-input-13-6f70278e62a6>:4:0\n",
    "\t\t+   %17 : int = prim::Constant[value=3]() # <ipython-input-13-6f70278e62a6>:4:0\n",
    "\t\t+   %18 : Tensor = aten::select(%x, %16, %17) # <ipython-input-13-6f70278e62a6>:4:0\n",
    "\t\t-   %15 : Tensor = aten::mul_(%result, %14) # <ipython-input-13-6f70278e62a6>:4:0\n",
    "\t\t?     ^                                  ^\n",
    "\t\t+   %19 : Tensor = aten::mul_(%result, %18) # <ipython-input-13-6f70278e62a6>:4:0\n",
    "\t\t?     ^                                  ^\n",
    "\t\t-   return (%15)\n",
    "\t\t?             ^\n",
    "\t\t+   return (%19)\n",
    "\t\t?             ^\n",
    "\tFirst diverging operator:\n",
    "\tNode diff:\n",
    "\t\t- %result : Tensor = aten::mul_(%result.3, %10) # <ipython-input-13-6f70278e62a6>:4:0\n",
    "\t\t+ %result.5 : Tensor = aten::mul_(%result.3, %10) # <ipython-input-13-6f70278e62a6>:4:0\n",
    "\t\t?        ++\n",
    "```\n",
    "\n",
    "This indicates to us that the computation differed b/w when we first traced and when we traced it with the ```check_inputs```. Indeed, the loop within the body of ```loop_in_traced_fn``` depends on the shape of the input ```x```, and thus when we try another ```x``` with a different shape, the trace differs.\n",
    "\n",
    "In this case, <b>data-dependent</b> control flow can be captured using ```torch.jit.script()``` instead."
   ]
  },
  {
   "cell_type": "code",
   "execution_count": 17,
   "metadata": {},
   "outputs": [
    {
     "name": "stdout",
     "output_type": "stream",
     "text": [
      "graph(%x.1 : Tensor):\n",
      "  %9 : bool = prim::Constant[value=1]() # <ipython-input-17-690ccad1804c>:3:4\n",
      "  %2 : int = prim::Constant[value=0]() # <ipython-input-17-690ccad1804c>:2:15\n",
      "  %result.1 : Tensor = aten::select(%x.1, %2, %2) # <ipython-input-17-690ccad1804c>:2:13\n",
      "  %6 : int = aten::size(%x.1, %2) # <ipython-input-17-690ccad1804c>:3:19\n",
      "  %result : Tensor = prim::Loop(%6, %9, %result.1) # <ipython-input-17-690ccad1804c>:3:4\n",
      "    block0(%i.1 : int, %result.11 : Tensor):\n",
      "      %17 : Tensor = aten::select(%x.1, %2, %i.1) # <ipython-input-17-690ccad1804c>:4:18\n",
      "      %result.5 : Tensor = aten::mul_(%result.11, %17) # <ipython-input-17-690ccad1804c>:4:8\n",
      "      -> (%9, %result.5)\n",
      "  return (%result)\n",
      "\n"
     ]
    }
   ],
   "source": [
    "def fn(x):\n",
    "    result = x[0]\n",
    "    for i in range(x.size(0)):\n",
    "        result *= x[i]\n",
    "    return result\n",
    "\n",
    "inputs = (torch.rand(3, 4, 5),)\n",
    "check_inputs = [(torch.rand(4, 5, 6), ), (torch.rand(2, 3, 4),)]\n",
    "\n",
    "scripted_fn = torch.jit.script(fn)\n",
    "print(scripted_fn.graph)\n",
    "\n",
    "for input_tup in [inputs] + check_inputs:\n",
    "    torch.testing.assert_allclose(fn(*input_tup), scripted_fn(*input_tup))"
   ]
  },
  {
   "cell_type": "markdown",
   "metadata": {},
   "source": [
    "### Tracer Warnings\n",
    "\n",
    "The tracer produces warnings for several problematic patterns in traced computation. For Example, take a trace of a function that contains an in-place assignment on a slice (a view) of a Tensor:"
   ]
  },
  {
   "cell_type": "code",
   "execution_count": 18,
   "metadata": {},
   "outputs": [
    {
     "name": "stdout",
     "output_type": "stream",
     "text": [
      "graph(%x : Float(3, 4, strides=[4, 1], requires_grad=0, device=cpu)):\n",
      "  %4 : int = prim::Constant[value=1]() # <ipython-input-18-7024b6eddacc>:2:0\n",
      "  %5 : int = aten::size(%x, %4) # <ipython-input-18-7024b6eddacc>:2:0\n",
      "  %6 : Long(device=cpu) = prim::NumToTensor(%5)\n",
      "  %7 : int = aten::Int(%6)\n",
      "  %8 : int[] = prim::ListConstruct(%7)\n",
      "  %9 : int = prim::Constant[value=6]() # <ipython-input-18-7024b6eddacc>:2:0\n",
      "  %10 : NoneType = prim::Constant()\n",
      "  %11 : Device = prim::Constant[value=\"cpu\"]() # <ipython-input-18-7024b6eddacc>:2:0\n",
      "  %12 : bool = prim::Constant[value=0]() # <ipython-input-18-7024b6eddacc>:2:0\n",
      "  %13 : Float(4, strides=[1], requires_grad=0, device=cpu) = aten::rand(%8, %9, %10, %11, %12) # <ipython-input-18-7024b6eddacc>:2:0\n",
      "  %14 : int = prim::Constant[value=0]() # <ipython-input-18-7024b6eddacc>:2:0\n",
      "  %15 : int = prim::Constant[value=0]() # <ipython-input-18-7024b6eddacc>:2:0\n",
      "  %16 : Float(4, strides=[1], requires_grad=0, device=cpu) = aten::select(%x, %14, %15) # <ipython-input-18-7024b6eddacc>:2:0\n",
      "  %17 : bool = prim::Constant[value=0]()\n",
      "  %18 : Float(4, strides=[1], requires_grad=0, device=cpu) = aten::copy_(%16, %13, %17) # <ipython-input-18-7024b6eddacc>:2:0\n",
      "  return (%x)\n",
      "\n"
     ]
    },
    {
     "name": "stderr",
     "output_type": "stream",
     "text": [
      "C:\\ProgramData\\Anaconda3\\envs\\ML\\lib\\site-packages\\torch\\jit\\_trace.py:804: TracerWarning: Trace had nondeterministic nodes. Did you forget call .eval() on your model? Nodes:\n",
      "\t%13 : Float(4, strides=[1], requires_grad=0, device=cpu) = aten::rand(%8, %9, %10, %11, %12) # <ipython-input-18-7024b6eddacc>:2:0\n",
      "This may cause errors in trace checking. To disable trace checking, pass check_trace=False to torch.jit.trace()\n",
      "  _check_trace(\n",
      "C:\\ProgramData\\Anaconda3\\envs\\ML\\lib\\site-packages\\torch\\jit\\_trace.py:804: TracerWarning: Output nr 1. of the traced function does not match the corresponding output of the Python function. Detailed error:\n",
      "With rtol=1e-05 and atol=1e-05, found 4 element(s) (out of 12) whose difference(s) exceeded the margin of error (including 0 nan comparisons). The greatest difference was 0.9652758240699768 (0.9818273186683655 vs. 0.016551494598388672), which occurred at index (0, 1).\n",
      "  _check_trace(\n"
     ]
    }
   ],
   "source": [
    "def fill_row_zero(x):\n",
    "    x[0] = torch.rand(*x.shape[1:2])\n",
    "    return x\n",
    "\n",
    "traced = torch.jit.trace(fill_row_zero, (torch.rand(3, 4)))\n",
    "print(traced.graph)"
   ]
  },
  {
   "cell_type": "markdown",
   "metadata": {},
   "source": [
    "We can fix this by modifying the code to not use the in-place update, but rather build up the result tensor out-of-place with ```torch.cat```:"
   ]
  },
  {
   "cell_type": "code",
   "execution_count": 19,
   "metadata": {},
   "outputs": [
    {
     "name": "stdout",
     "output_type": "stream",
     "text": [
      "graph(%x : Float(3, 4, strides=[4, 1], requires_grad=0, device=cpu)):\n",
      "  %4 : int = prim::Constant[value=1]() # <ipython-input-19-a0ec8869dac9>:2:0\n",
      "  %5 : int = aten::size(%x, %4) # <ipython-input-19-a0ec8869dac9>:2:0\n",
      "  %6 : Long(device=cpu) = prim::NumToTensor(%5)\n",
      "  %7 : int = aten::Int(%6)\n",
      "  %8 : int = prim::Constant[value=1]() # <ipython-input-19-a0ec8869dac9>:2:0\n",
      "  %9 : int[] = prim::ListConstruct(%8, %7)\n",
      "  %10 : int = prim::Constant[value=6]() # <ipython-input-19-a0ec8869dac9>:2:0\n",
      "  %11 : NoneType = prim::Constant()\n",
      "  %12 : Device = prim::Constant[value=\"cpu\"]() # <ipython-input-19-a0ec8869dac9>:2:0\n",
      "  %13 : bool = prim::Constant[value=0]() # <ipython-input-19-a0ec8869dac9>:2:0\n",
      "  %14 : Float(1, 4, strides=[4, 1], requires_grad=0, device=cpu) = aten::rand(%9, %10, %11, %12, %13) # <ipython-input-19-a0ec8869dac9>:2:0\n",
      "  %15 : int = prim::Constant[value=0]() # <ipython-input-19-a0ec8869dac9>:2:0\n",
      "  %16 : int = prim::Constant[value=1]() # <ipython-input-19-a0ec8869dac9>:2:0\n",
      "  %17 : int = prim::Constant[value=2]() # <ipython-input-19-a0ec8869dac9>:2:0\n",
      "  %18 : int = prim::Constant[value=1]() # <ipython-input-19-a0ec8869dac9>:2:0\n",
      "  %19 : Float(1, 4, strides=[4, 1], requires_grad=0, device=cpu) = aten::slice(%x, %15, %16, %17, %18) # <ipython-input-19-a0ec8869dac9>:2:0\n",
      "  %20 : Tensor[] = prim::ListConstruct(%14, %19)\n",
      "  %21 : int = prim::Constant[value=0]() # <ipython-input-19-a0ec8869dac9>:2:0\n",
      "  %22 : Float(2, 4, strides=[4, 1], requires_grad=0, device=cpu) = aten::cat(%20, %21) # <ipython-input-19-a0ec8869dac9>:2:0\n",
      "  return (%22)\n",
      "\n"
     ]
    },
    {
     "name": "stderr",
     "output_type": "stream",
     "text": [
      "C:\\ProgramData\\Anaconda3\\envs\\ML\\lib\\site-packages\\torch\\jit\\_trace.py:804: TracerWarning: Trace had nondeterministic nodes. Did you forget call .eval() on your model? Nodes:\n",
      "\t%14 : Float(1, 4, strides=[4, 1], requires_grad=0, device=cpu) = aten::rand(%9, %10, %11, %12, %13) # <ipython-input-19-a0ec8869dac9>:2:0\n",
      "This may cause errors in trace checking. To disable trace checking, pass check_trace=False to torch.jit.trace()\n",
      "  _check_trace(\n",
      "C:\\ProgramData\\Anaconda3\\envs\\ML\\lib\\site-packages\\torch\\jit\\_trace.py:804: TracerWarning: Output nr 1. of the traced function does not match the corresponding output of the Python function. Detailed error:\n",
      "With rtol=1e-05 and atol=1e-05, found 4 element(s) (out of 8) whose difference(s) exceeded the margin of error (including 0 nan comparisons). The greatest difference was 0.6998563408851624 (0.990868330001831 vs. 0.2910119891166687), which occurred at index (0, 3).\n",
      "  _check_trace(\n"
     ]
    }
   ],
   "source": [
    "def fill_row_zero(x):\n",
    "    x = torch.cat((torch.rand(1, *x.shape[1:2]), x[1:2]), dim=0)\n",
    "    return x\n",
    "\n",
    "traced = torch.jit.trace(fill_row_zero, (torch.rand(3, 4),))\n",
    "print(traced.graph)"
   ]
  },
  {
   "cell_type": "code",
   "execution_count": null,
   "metadata": {},
   "outputs": [],
   "source": []
  }
 ],
 "metadata": {
  "kernelspec": {
   "display_name": "ML",
   "language": "python",
   "name": "ml"
  },
  "language_info": {
   "codemirror_mode": {
    "name": "ipython",
    "version": 3
   },
   "file_extension": ".py",
   "mimetype": "text/x-python",
   "name": "python",
   "nbconvert_exporter": "python",
   "pygments_lexer": "ipython3",
   "version": "3.8.5"
  }
 },
 "nbformat": 4,
 "nbformat_minor": 4
}
