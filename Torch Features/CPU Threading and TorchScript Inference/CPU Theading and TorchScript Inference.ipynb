{
 "cells": [
  {
   "cell_type": "markdown",
   "metadata": {},
   "source": [
    "## CPU Threading and TorchScript Inference\n",
    "\n",
    "PyTorch allows using multiple CPU threads during `TorchScript` model inference. This following figure shows different levels of parallelism one would find in a typical application.\n",
    "\n",
    "<img src=\"https://pytorch.org/docs/stable/_images/cpu_threading_torchscript_inference.svg\"/>\n",
    "\n",
    "One or more inference threads execute a model's forward pass on the given inputs. Each inference thread invokes a `JIT` interpreter that executes the ops of a model inline, one by one. A model can utilize a `fork` TorchScript primitive to launch an asynchronous task. Forking several operations at once results in a task that is executed in parallel. The `fork` operator returns a `Future` object which can be used to synchronize on later\n",
    "\n",
    "```python\n",
    "import torch\n",
    "\n",
    "@torch.jit.script\n",
    "def compute_z(x):\n",
    "    return torch.mm(x, self.w_z)\n",
    "\n",
    "@torch.jit.script\n",
    "def forward(x):\n",
    "    # launch compute_z asynchronously:\n",
    "    fut = torch.jit._fork(compute_z, x)\n",
    "    # execute the next operation in parallel to compute_z:\n",
    "    y = torch.mm(x, self.w_y)\n",
    "    # wait for the result of compute_z:\n",
    "    z = torch.jit._wait(fut)\n",
    "    return y + z\n",
    "```"
   ]
  },
  {
   "cell_type": "markdown",
   "metadata": {},
   "source": [
    "## Tuning the Number of Threads\n",
    "\n",
    "The following simple script shows how a runtime of matrix multiplication changes with the number of threads:"
   ]
  },
  {
   "cell_type": "code",
   "execution_count": null,
   "metadata": {},
   "outputs": [],
   "source": [
    "import torch\n",
    "import timeit\n",
    "runtimes = []\n",
    "threads = [1] + [t for t in range(2, 49, 2)]\n",
    "for t in threads:\n",
    "    torch.set_num_threads(t)\n",
    "    r = timeit.timeit(setup = \"import torch; x = torch.randn(1024, 1024); y = torch.randn(1024, 1024)\", stmt=\"torch.mm(x, y)\", number=100)\n",
    "    runtimes.append(r)"
   ]
  }
 ],
 "metadata": {
  "kernelspec": {
   "display_name": "ML",
   "language": "python",
   "name": "ml"
  },
  "language_info": {
   "codemirror_mode": {
    "name": "ipython",
    "version": 3
   },
   "file_extension": ".py",
   "mimetype": "text/x-python",
   "name": "python",
   "nbconvert_exporter": "python",
   "pygments_lexer": "ipython3",
   "version": "3.8.5"
  }
 },
 "nbformat": 4,
 "nbformat_minor": 4
}
