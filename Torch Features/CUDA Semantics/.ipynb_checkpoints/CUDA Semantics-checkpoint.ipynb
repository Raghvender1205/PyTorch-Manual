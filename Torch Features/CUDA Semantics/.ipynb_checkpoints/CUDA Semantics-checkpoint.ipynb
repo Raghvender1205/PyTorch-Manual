{
 "cells": [
  {
   "cell_type": "markdown",
   "metadata": {},
   "source": [
    "## CUDA Semantics\n",
    "\n",
    "`torch.cuda` is used to set up and run CUDA operations. It keeps track of the currently selected `GPU`, and all CUDA"
   ]
  }
 ],
 "metadata": {
  "kernelspec": {
   "display_name": "ML",
   "language": "python",
   "name": "ml"
  },
  "language_info": {
   "codemirror_mode": {
    "name": "ipython",
    "version": 3
   },
   "file_extension": ".py",
   "mimetype": "text/x-python",
   "name": "python",
   "nbconvert_exporter": "python",
   "pygments_lexer": "ipython3",
   "version": "3.8.5"
  }
 },
 "nbformat": 4,
 "nbformat_minor": 4
}
