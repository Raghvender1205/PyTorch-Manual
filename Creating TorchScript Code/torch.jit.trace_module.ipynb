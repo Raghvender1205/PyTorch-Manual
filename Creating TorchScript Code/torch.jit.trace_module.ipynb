{
 "cells": [
  {
   "cell_type": "markdown",
   "metadata": {},
   "source": [
    "## TORCH.JIT.TRACE_MODULE\n",
    "\n",
    "<b>\n",
    "    \n",
    "```python\n",
    "torch.jit.trace_module(mod, inputs, optimize=None, check_trace=True, check_inputs=None, check_tolerance=1e-05, strict=True, _force_outplace=False, _module_class=None, _compilation_unit=<torch.jit.CompilationUnit object>)\n",
    "```\n",
    "</b>\n",
    "    "
   ]
  },
  {
   "cell_type": "markdown",
   "metadata": {},
   "source": [
    "### Parameters\n",
    "1. mod :- A ```torch.nn.Module``` containing methods whose names are specified in ```inputs```. The methods will be compiled as a part of a single ```ScriptModule```.\n",
    "2. inputs :- A dict containing sample inputs indexed by method names in ```mod```. The inputs will be passed to methods whose names correspond to inputs’ keys while tracing.\n",
    "```python\n",
    "{'forward' : forward_input, 'method2': method_input}\n",
    "```\n",
    "\n",
    "### Returns\n",
    "\n",
    "A ```ScriptModule``` with a single ```forward``` method containing the traced code. When ```func``` is a ```torch.nn.Module```, the returned ```ScriptModule``` will have the same set of sub-modules and parameters as ```func```.\n",
    "\n",
    "\n",
    "### Example (Tracing a Module with Multiple Methods)"
   ]
  },
  {
   "cell_type": "code",
   "execution_count": 3,
   "metadata": {},
   "outputs": [
    {
     "name": "stdout",
     "output_type": "stream",
     "text": [
      "Specific Method Traced Code:  def forward(self,\n",
      "    x: Tensor) -> Tensor:\n",
      "  return (self.conv).forward(x, )\n",
      "\n",
      "Specific Method Graph:  graph(%self.1 : __torch__.___torch_mangle_27.Net,\n",
      "      %x : Float(1, 1, 3, 3, strides=[9, 9, 3, 1], requires_grad=0, device=cpu)):\n",
      "  %31 : __torch__.torch.nn.modules.conv.___torch_mangle_26.Conv2d = prim::GetAttr[name=\"conv\"](%self.1)\n",
      "  %33 : Tensor = prim::CallMethod[name=\"forward\"](%31, %x)\n",
      "  return (%33)\n",
      "\n",
      "Traced Code:  def forward(self,\n",
      "    x: Tensor) -> Tensor:\n",
      "  return (self.conv).forward(x, )\n",
      "\n",
      "Implicit Method Graph:  graph(%self.1 : __torch__.___torch_mangle_31.Net,\n",
      "      %x : Float(1, 1, 3, 3, strides=[9, 9, 3, 1], requires_grad=0, device=cpu)):\n",
      "  %31 : __torch__.torch.nn.modules.conv.___torch_mangle_30.Conv2d = prim::GetAttr[name=\"conv\"](%self.1)\n",
      "  %33 : Tensor = prim::CallMethod[name=\"forward\"](%31, %x)\n",
      "  return (%33)\n",
      "\n",
      "Specific Method Inputs Traced Code:  def forward(self,\n",
      "    x: Tensor) -> Tensor:\n",
      "  return (self.conv).forward(x, )\n",
      "\n",
      "Specific Method Inputs Graph:  graph(%self.1 : __torch__.___torch_mangle_35.Net,\n",
      "      %x : Float(1, 1, 3, 3, strides=[9, 9, 3, 1], requires_grad=0, device=cpu)):\n",
      "  %31 : __torch__.torch.nn.modules.conv.___torch_mangle_34.Conv2d = prim::GetAttr[name=\"conv\"](%self.1)\n",
      "  %33 : Tensor = prim::CallMethod[name=\"forward\"](%31, %x)\n",
      "  return (%33)\n",
      "\n"
     ]
    }
   ],
   "source": [
    "import torch\n",
    "import torch.nn as nn\n",
    "\n",
    "class Net(nn.Module):\n",
    "    def __init__(self):\n",
    "        super(Net, self).__init__()\n",
    "        self.conv = nn.Conv2d(1, 1, 3)\n",
    "        \n",
    "    def forward(self, x):\n",
    "        return self.conv(x)\n",
    "    \n",
    "    def weighted_kernel_sum(self, weight):\n",
    "        return weight * self.conv.weight\n",
    "    \n",
    "model = Net()\n",
    "weight = torch.rand(1, 1, 3, 3)\n",
    "forward_input = torch.rand(1, 1, 3, 3)\n",
    "\n",
    "# Trace a specific method and construct `ScriptModule` with\n",
    "# a single `forward` method\n",
    "module = torch.jit.trace(model.forward, forward_input)\n",
    "print('Specific Method Traced Code: ', module.code)\n",
    "print('Specific Method Graph: ', module.graph)\n",
    "\n",
    "# Trace a module (implicitly traces `forward`) and construct a\n",
    "# `ScriptModule` with a single `forward` method\n",
    "module = torch.jit.trace(model, forward_input)\n",
    "print('Traced Code: ', module.code)\n",
    "print('Implicit Method Graph: ', module.graph)\n",
    "\n",
    "# Trace specific methods on a module (specified in `inputs`), constructs\n",
    "# a `ScriptModule` with `forward` and `weighted_kernel_sum` methods\n",
    "inputs = {'forward' : forward_input, 'weighted_kernel_sum' : weight}\n",
    "module = torch.jit.trace_module(model, inputs)\n",
    "print('Specific Method Inputs Traced Code: ', module.code)\n",
    "print('Specific Method Inputs Graph: ', module.graph)"
   ]
  },
  {
   "cell_type": "code",
   "execution_count": null,
   "metadata": {},
   "outputs": [],
   "source": []
  }
 ],
 "metadata": {
  "kernelspec": {
   "display_name": "ML",
   "language": "python",
   "name": "ml"
  },
  "language_info": {
   "codemirror_mode": {
    "name": "ipython",
    "version": 3
   },
   "file_extension": ".py",
   "mimetype": "text/x-python",
   "name": "python",
   "nbconvert_exporter": "python",
   "pygments_lexer": "ipython3",
   "version": "3.8.5"
  }
 },
 "nbformat": 4,
 "nbformat_minor": 4
}
