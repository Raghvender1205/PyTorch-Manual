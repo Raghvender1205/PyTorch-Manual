{
 "cells": [
  {
   "cell_type": "markdown",
   "metadata": {},
   "source": [
    "## TORCH.JIT.TRACE\n",
    "\n",
    "<b>\n",
    "    \n",
    "```python\n",
    "torch.jit.trace(func, example_inputs, optimize=None, check_trace=True, check_inputs=None, check_tolerance=1e-05, strict=True, _force_outplace=False, _module_class=None, _compilation_unit=<torch.jit.CompilationUnit object>)\n",
    "```\n",
    "</b>"
   ]
  },
  {
   "cell_type": "markdown",
   "metadata": {},
   "source": [
    "## Trace a Function and return an executable or ```ScriptModule``` that will be optimized using ```jit``` compilation.\n",
    "Tracing is ideal for code that operates only on ```Tensor```s and lists, dictionaries and tuples ```Tensor```.\n",
    "\n",
    "Using <i>```torch.jit.trace```</i> and <i>```torch.jit.trace_module```</i>, you can turn an existing module or Python function into TorchScript ```ScriptFunction``` or ```ScriptModule```. \n",
    "\n",
    "You must provide example inputs, run the function, recording the operations performed on all the tensors.\n",
    "- The resulting recording of a standalone function produces <i>ScriptFunction</i>.\n",
    "- The resulting recording of ```nn.Module.forward``` or ```nn.Module``` produces <i>ScriptModule</i>\n",
    "\n",
    "### Parameters\n",
    "1. <b>func</b>:- A Python Function or ```torch.nn.Module``` that will run with <i>example_inputs</i>. <i>func</i> arguments and return values must be tensors or (possibly nested) tuples that contain tensors. When a module is passed ```torch.jit.trace```, only the forward method is run and traced.\n",
    "\n",
    "2. <b>example_inputs</b>:- A tuple of example inputs that will be passed to the function while tracing. The resulting trace can be run with input of different types and shapes assuming the traced operations support those types and shapes.\n",
    "\n",
    "### Returns\n",
    "\n",
    "If <i>func</i> is ```nn.Module``` or ```forward``` of <i>nn.Module</i>, returns a ```ScriptModule``` object with a single ```forward``` method containing the traced code.\n",
    "\n",
    "The returned ```ScriptModule``` will have the same set of sub-modules and parameters as the original ```nn.Module```.\n",
    "If ```func``` is a standalone function, ```trace``` returns ```ScriptFunction```.\n",
    "\n",
    "### Example (Tracing a Function)"
   ]
  },
  {
   "cell_type": "code",
   "execution_count": 2,
   "metadata": {},
   "outputs": [
    {
     "data": {
      "text/plain": [
       "<torch.jit.ScriptFunction at 0x204fec0d040>"
      ]
     },
     "execution_count": 2,
     "metadata": {},
     "output_type": "execute_result"
    }
   ],
   "source": [
    "import torch\n",
    "\n",
    "def foo(x, y):\n",
    "    return 2 * x + y\n",
    "\n",
    "# Run `foo` with provided inputs and record the tensor operations\n",
    "traced_foo = torch.jit.trace(foo, (torch.rand(3), torch.rand(3)))\n",
    "\n",
    "traced_foo"
   ]
  },
  {
   "cell_type": "markdown",
   "metadata": {},
   "source": [
    "### Example (Tracing a Existing Module)"
   ]
  },
  {
   "cell_type": "code",
   "execution_count": 12,
   "metadata": {},
   "outputs": [
    {
     "name": "stdout",
     "output_type": "stream",
     "text": [
      "Model:  Net(\n",
      "  (conv): Conv2d(1, 1, kernel_size=(3, 3), stride=(1, 1))\n",
      ")\n",
      "\n",
      "\n",
      "Specific Method:  def forward(self,\n",
      "    x: Tensor) -> Tensor:\n",
      "  return (self.conv).forward(x, )\n",
      "\n",
      "graph(%self.1 : __torch__.___torch_mangle_66.Net,\n",
      "      %x : Float(1, 1, 3, 3, strides=[9, 9, 3, 1], requires_grad=0, device=cpu)):\n",
      "  %31 : __torch__.torch.nn.modules.conv.___torch_mangle_65.Conv2d = prim::GetAttr[name=\"conv\"](%self.1)\n",
      "  %33 : Tensor = prim::CallMethod[name=\"forward\"](%31, %x)\n",
      "  return (%33)\n",
      "\n",
      "Net(\n",
      "  original_name=Net\n",
      "  (conv): Conv2d(original_name=Conv2d)\n",
      ")\n",
      "Graph:  graph(%self.1 : __torch__.___torch_mangle_70.Net,\n",
      "      %x : Float(1, 1, 3, 3, strides=[9, 9, 3, 1], requires_grad=0, device=cpu)):\n",
      "  %31 : __torch__.torch.nn.modules.conv.___torch_mangle_69.Conv2d = prim::GetAttr[name=\"conv\"](%self.1)\n",
      "  %33 : Tensor = prim::CallMethod[name=\"forward\"](%31, %x)\n",
      "  return (%33)\n",
      "\n"
     ]
    }
   ],
   "source": [
    "import torch.nn as nn\n",
    "\n",
    "class Net(nn.Module):\n",
    "    def __init__(self):\n",
    "        super(Net, self).__init__()\n",
    "        self.conv = nn.Conv2d(1, 1, 3)\n",
    "        \n",
    "    def forward(self, x):\n",
    "        return self.conv(x)\n",
    "\n",
    "model = Net()\n",
    "weight = torch.rand(1, 1, 3, 3)\n",
    "forward_input = torch.rand(1, 1, 3, 3)\n",
    "\n",
    "print('Model: ', model)\n",
    "print('\\n')\n",
    "# Trace a specific method and construct `ScriptModule` with\n",
    "# a single `forward` method\n",
    "module = torch.jit.trace(model.forward, forward_input)\n",
    "print('Specific Method: ', module.code)\n",
    "print(module.graph)\n",
    "\n",
    "# Trace a module (implicitly traces `forward`) and construct a\n",
    "# `ScriptModule` with a single `forward` method\n",
    "module = torch.jit.trace(model, forward_input)\n",
    "print(module)\n",
    "print('Graph: ', module.graph)"
   ]
  },
  {
   "cell_type": "code",
   "execution_count": null,
   "metadata": {},
   "outputs": [],
   "source": []
  }
 ],
 "metadata": {
  "kernelspec": {
   "display_name": "ML",
   "language": "python",
   "name": "ml"
  },
  "language_info": {
   "codemirror_mode": {
    "name": "ipython",
    "version": 3
   },
   "file_extension": ".py",
   "mimetype": "text/x-python",
   "name": "python",
   "nbconvert_exporter": "python",
   "pygments_lexer": "ipython3",
   "version": "3.8.5"
  }
 },
 "nbformat": 4,
 "nbformat_minor": 4
}
